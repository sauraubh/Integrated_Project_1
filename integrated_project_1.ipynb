{
 "cells": [
  {
   "cell_type": "markdown",
   "metadata": {},
   "source": [
    "# Project: Integrated Project Module 1"
   ]
  },
  {
   "cell_type": "markdown",
   "metadata": {},
   "source": [
    "Goal of the Project: Forecasting sales for 2017 sales based on previous data."
   ]
  },
  {
   "cell_type": "markdown",
   "metadata": {},
   "source": [
    "## 1.Open the data file and study the general information"
   ]
  },
  {
   "cell_type": "code",
   "execution_count": 1,
   "metadata": {},
   "outputs": [
    {
     "name": "stdout",
     "output_type": "stream",
     "text": [
      "<class 'pandas.core.frame.DataFrame'>\n",
      "RangeIndex: 16715 entries, 0 to 16714\n",
      "Data columns (total 11 columns):\n",
      "Name               16713 non-null object\n",
      "Platform           16715 non-null object\n",
      "Year_of_Release    16446 non-null float64\n",
      "Genre              16713 non-null object\n",
      "NA_sales           16715 non-null float64\n",
      "EU_sales           16715 non-null float64\n",
      "JP_sales           16715 non-null float64\n",
      "Other_sales        16715 non-null float64\n",
      "Critic_Score       8137 non-null float64\n",
      "User_Score         10014 non-null object\n",
      "Rating             9949 non-null object\n",
      "dtypes: float64(6), object(5)\n",
      "memory usage: 1.4+ MB\n",
      "None\n",
      "       Year_of_Release      NA_sales      EU_sales      JP_sales  \\\n",
      "count     16446.000000  16715.000000  16715.000000  16715.000000   \n",
      "mean       2006.484616      0.263377      0.145060      0.077617   \n",
      "std           5.877050      0.813604      0.503339      0.308853   \n",
      "min        1980.000000      0.000000      0.000000      0.000000   \n",
      "25%        2003.000000      0.000000      0.000000      0.000000   \n",
      "50%        2007.000000      0.080000      0.020000      0.000000   \n",
      "75%        2010.000000      0.240000      0.110000      0.040000   \n",
      "max        2016.000000     41.360000     28.960000     10.220000   \n",
      "\n",
      "        Other_sales  Critic_Score  \n",
      "count  16715.000000   8137.000000  \n",
      "mean       0.047342     68.967679  \n",
      "std        0.186731     13.938165  \n",
      "min        0.000000     13.000000  \n",
      "25%        0.000000     60.000000  \n",
      "50%        0.010000     71.000000  \n",
      "75%        0.030000     79.000000  \n",
      "max       10.570000     98.000000  \n"
     ]
    },
    {
     "data": {
      "text/html": [
       "<div>\n",
       "<style scoped>\n",
       "    .dataframe tbody tr th:only-of-type {\n",
       "        vertical-align: middle;\n",
       "    }\n",
       "\n",
       "    .dataframe tbody tr th {\n",
       "        vertical-align: top;\n",
       "    }\n",
       "\n",
       "    .dataframe thead th {\n",
       "        text-align: right;\n",
       "    }\n",
       "</style>\n",
       "<table border=\"1\" class=\"dataframe\">\n",
       "  <thead>\n",
       "    <tr style=\"text-align: right;\">\n",
       "      <th></th>\n",
       "      <th>Name</th>\n",
       "      <th>Platform</th>\n",
       "      <th>Year_of_Release</th>\n",
       "      <th>Genre</th>\n",
       "      <th>NA_sales</th>\n",
       "      <th>EU_sales</th>\n",
       "      <th>JP_sales</th>\n",
       "      <th>Other_sales</th>\n",
       "      <th>Critic_Score</th>\n",
       "      <th>User_Score</th>\n",
       "      <th>Rating</th>\n",
       "    </tr>\n",
       "  </thead>\n",
       "  <tbody>\n",
       "    <tr>\n",
       "      <td>0</td>\n",
       "      <td>Wii Sports</td>\n",
       "      <td>Wii</td>\n",
       "      <td>2006.0</td>\n",
       "      <td>Sports</td>\n",
       "      <td>41.36</td>\n",
       "      <td>28.96</td>\n",
       "      <td>3.77</td>\n",
       "      <td>8.45</td>\n",
       "      <td>76.0</td>\n",
       "      <td>8</td>\n",
       "      <td>E</td>\n",
       "    </tr>\n",
       "    <tr>\n",
       "      <td>1</td>\n",
       "      <td>Super Mario Bros.</td>\n",
       "      <td>NES</td>\n",
       "      <td>1985.0</td>\n",
       "      <td>Platform</td>\n",
       "      <td>29.08</td>\n",
       "      <td>3.58</td>\n",
       "      <td>6.81</td>\n",
       "      <td>0.77</td>\n",
       "      <td>NaN</td>\n",
       "      <td>NaN</td>\n",
       "      <td>NaN</td>\n",
       "    </tr>\n",
       "    <tr>\n",
       "      <td>2</td>\n",
       "      <td>Mario Kart Wii</td>\n",
       "      <td>Wii</td>\n",
       "      <td>2008.0</td>\n",
       "      <td>Racing</td>\n",
       "      <td>15.68</td>\n",
       "      <td>12.76</td>\n",
       "      <td>3.79</td>\n",
       "      <td>3.29</td>\n",
       "      <td>82.0</td>\n",
       "      <td>8.3</td>\n",
       "      <td>E</td>\n",
       "    </tr>\n",
       "    <tr>\n",
       "      <td>3</td>\n",
       "      <td>Wii Sports Resort</td>\n",
       "      <td>Wii</td>\n",
       "      <td>2009.0</td>\n",
       "      <td>Sports</td>\n",
       "      <td>15.61</td>\n",
       "      <td>10.93</td>\n",
       "      <td>3.28</td>\n",
       "      <td>2.95</td>\n",
       "      <td>80.0</td>\n",
       "      <td>8</td>\n",
       "      <td>E</td>\n",
       "    </tr>\n",
       "    <tr>\n",
       "      <td>4</td>\n",
       "      <td>Pokemon Red/Pokemon Blue</td>\n",
       "      <td>GB</td>\n",
       "      <td>1996.0</td>\n",
       "      <td>Role-Playing</td>\n",
       "      <td>11.27</td>\n",
       "      <td>8.89</td>\n",
       "      <td>10.22</td>\n",
       "      <td>1.00</td>\n",
       "      <td>NaN</td>\n",
       "      <td>NaN</td>\n",
       "      <td>NaN</td>\n",
       "    </tr>\n",
       "    <tr>\n",
       "      <td>...</td>\n",
       "      <td>...</td>\n",
       "      <td>...</td>\n",
       "      <td>...</td>\n",
       "      <td>...</td>\n",
       "      <td>...</td>\n",
       "      <td>...</td>\n",
       "      <td>...</td>\n",
       "      <td>...</td>\n",
       "      <td>...</td>\n",
       "      <td>...</td>\n",
       "      <td>...</td>\n",
       "    </tr>\n",
       "    <tr>\n",
       "      <td>16710</td>\n",
       "      <td>Samurai Warriors: Sanada Maru</td>\n",
       "      <td>PS3</td>\n",
       "      <td>2016.0</td>\n",
       "      <td>Action</td>\n",
       "      <td>0.00</td>\n",
       "      <td>0.00</td>\n",
       "      <td>0.01</td>\n",
       "      <td>0.00</td>\n",
       "      <td>NaN</td>\n",
       "      <td>NaN</td>\n",
       "      <td>NaN</td>\n",
       "    </tr>\n",
       "    <tr>\n",
       "      <td>16711</td>\n",
       "      <td>LMA Manager 2007</td>\n",
       "      <td>X360</td>\n",
       "      <td>2006.0</td>\n",
       "      <td>Sports</td>\n",
       "      <td>0.00</td>\n",
       "      <td>0.01</td>\n",
       "      <td>0.00</td>\n",
       "      <td>0.00</td>\n",
       "      <td>NaN</td>\n",
       "      <td>NaN</td>\n",
       "      <td>NaN</td>\n",
       "    </tr>\n",
       "    <tr>\n",
       "      <td>16712</td>\n",
       "      <td>Haitaka no Psychedelica</td>\n",
       "      <td>PSV</td>\n",
       "      <td>2016.0</td>\n",
       "      <td>Adventure</td>\n",
       "      <td>0.00</td>\n",
       "      <td>0.00</td>\n",
       "      <td>0.01</td>\n",
       "      <td>0.00</td>\n",
       "      <td>NaN</td>\n",
       "      <td>NaN</td>\n",
       "      <td>NaN</td>\n",
       "    </tr>\n",
       "    <tr>\n",
       "      <td>16713</td>\n",
       "      <td>Spirits &amp; Spells</td>\n",
       "      <td>GBA</td>\n",
       "      <td>2003.0</td>\n",
       "      <td>Platform</td>\n",
       "      <td>0.01</td>\n",
       "      <td>0.00</td>\n",
       "      <td>0.00</td>\n",
       "      <td>0.00</td>\n",
       "      <td>NaN</td>\n",
       "      <td>NaN</td>\n",
       "      <td>NaN</td>\n",
       "    </tr>\n",
       "    <tr>\n",
       "      <td>16714</td>\n",
       "      <td>Winning Post 8 2016</td>\n",
       "      <td>PSV</td>\n",
       "      <td>2016.0</td>\n",
       "      <td>Simulation</td>\n",
       "      <td>0.00</td>\n",
       "      <td>0.00</td>\n",
       "      <td>0.01</td>\n",
       "      <td>0.00</td>\n",
       "      <td>NaN</td>\n",
       "      <td>NaN</td>\n",
       "      <td>NaN</td>\n",
       "    </tr>\n",
       "  </tbody>\n",
       "</table>\n",
       "<p>16715 rows × 11 columns</p>\n",
       "</div>"
      ],
      "text/plain": [
       "                                Name Platform  Year_of_Release         Genre  \\\n",
       "0                         Wii Sports      Wii           2006.0        Sports   \n",
       "1                  Super Mario Bros.      NES           1985.0      Platform   \n",
       "2                     Mario Kart Wii      Wii           2008.0        Racing   \n",
       "3                  Wii Sports Resort      Wii           2009.0        Sports   \n",
       "4           Pokemon Red/Pokemon Blue       GB           1996.0  Role-Playing   \n",
       "...                              ...      ...              ...           ...   \n",
       "16710  Samurai Warriors: Sanada Maru      PS3           2016.0        Action   \n",
       "16711               LMA Manager 2007     X360           2006.0        Sports   \n",
       "16712        Haitaka no Psychedelica      PSV           2016.0     Adventure   \n",
       "16713               Spirits & Spells      GBA           2003.0      Platform   \n",
       "16714            Winning Post 8 2016      PSV           2016.0    Simulation   \n",
       "\n",
       "       NA_sales  EU_sales  JP_sales  Other_sales  Critic_Score User_Score  \\\n",
       "0         41.36     28.96      3.77         8.45          76.0          8   \n",
       "1         29.08      3.58      6.81         0.77           NaN        NaN   \n",
       "2         15.68     12.76      3.79         3.29          82.0        8.3   \n",
       "3         15.61     10.93      3.28         2.95          80.0          8   \n",
       "4         11.27      8.89     10.22         1.00           NaN        NaN   \n",
       "...         ...       ...       ...          ...           ...        ...   \n",
       "16710      0.00      0.00      0.01         0.00           NaN        NaN   \n",
       "16711      0.00      0.01      0.00         0.00           NaN        NaN   \n",
       "16712      0.00      0.00      0.01         0.00           NaN        NaN   \n",
       "16713      0.01      0.00      0.00         0.00           NaN        NaN   \n",
       "16714      0.00      0.00      0.01         0.00           NaN        NaN   \n",
       "\n",
       "      Rating  \n",
       "0          E  \n",
       "1        NaN  \n",
       "2          E  \n",
       "3          E  \n",
       "4        NaN  \n",
       "...      ...  \n",
       "16710    NaN  \n",
       "16711    NaN  \n",
       "16712    NaN  \n",
       "16713    NaN  \n",
       "16714    NaN  \n",
       "\n",
       "[16715 rows x 11 columns]"
      ]
     },
     "execution_count": 1,
     "metadata": {},
     "output_type": "execute_result"
    }
   ],
   "source": [
    "import pandas as pd\n",
    "import numpy as np \n",
    "import os\n",
    "import pylab as pl\n",
    "import matplotlib.pyplot as plot\n",
    "\n",
    "try:\n",
    "    df = pd.read_csv('C:/Users/Asus/Downloads/games.csv')\n",
    "except:\n",
    "    df = pd.read_csv('/datasets/games.csv')\n",
    "print(df.info())\n",
    "print(df.describe())\n",
    "df"
   ]
  },
  {
   "cell_type": "markdown",
   "metadata": {},
   "source": [
    "Opened the given datafile and looked for general inforamtion of the table.\n",
    "\n",
    "Problem with data:\n",
    "1. Lots of missing values\n",
    "2. Unnecessary data\n",
    "3. datatypes are not reformed"
   ]
  },
  {
   "cell_type": "markdown",
   "metadata": {},
   "source": [
    "# 2.Prepare the data"
   ]
  },
  {
   "cell_type": "markdown",
   "metadata": {},
   "source": [
    "## 2.1 Replace the column names (make them lowercase). "
   ]
  },
  {
   "cell_type": "code",
   "execution_count": 2,
   "metadata": {},
   "outputs": [
    {
     "name": "stdout",
     "output_type": "stream",
     "text": [
      "Index(['Name', 'Platform', 'Year_of_Release', 'Genre', 'NA_sales', 'EU_sales',\n",
      "       'JP_sales', 'Other_sales', 'Critic_Score', 'User_Score', 'Rating'],\n",
      "      dtype='object')\n"
     ]
    },
    {
     "data": {
      "text/plain": [
       "Index(['name', 'platform', 'year_of_release', 'genre', 'na_sales', 'eu_sales',\n",
       "       'jp_sales', 'other_sales', 'critic_score', 'user_score', 'rating'],\n",
       "      dtype='object')"
      ]
     },
     "execution_count": 2,
     "metadata": {},
     "output_type": "execute_result"
    }
   ],
   "source": [
    "print(df.columns)\n",
    "df.columns= df.columns.str.lower()\n",
    "df.columns"
   ]
  },
  {
   "cell_type": "markdown",
   "metadata": {},
   "source": [
    "## 2.2 Working on Missing Values. "
   ]
  },
  {
   "cell_type": "code",
   "execution_count": 3,
   "metadata": {},
   "outputs": [
    {
     "data": {
      "text/html": [
       "<div>\n",
       "<style scoped>\n",
       "    .dataframe tbody tr th:only-of-type {\n",
       "        vertical-align: middle;\n",
       "    }\n",
       "\n",
       "    .dataframe tbody tr th {\n",
       "        vertical-align: top;\n",
       "    }\n",
       "\n",
       "    .dataframe thead th {\n",
       "        text-align: right;\n",
       "    }\n",
       "</style>\n",
       "<table border=\"1\" class=\"dataframe\">\n",
       "  <thead>\n",
       "    <tr style=\"text-align: right;\">\n",
       "      <th></th>\n",
       "      <th>id</th>\n",
       "      <th>slug</th>\n",
       "      <th>name</th>\n",
       "      <th>metacritic</th>\n",
       "      <th>released</th>\n",
       "      <th>tba</th>\n",
       "      <th>updated</th>\n",
       "      <th>website</th>\n",
       "      <th>rating</th>\n",
       "      <th>rating_top</th>\n",
       "      <th>...</th>\n",
       "      <th>developers</th>\n",
       "      <th>genres</th>\n",
       "      <th>publishers</th>\n",
       "      <th>esrb_rating</th>\n",
       "      <th>added_status_yet</th>\n",
       "      <th>added_status_owned</th>\n",
       "      <th>added_status_beaten</th>\n",
       "      <th>added_status_toplay</th>\n",
       "      <th>added_status_dropped</th>\n",
       "      <th>added_status_playing</th>\n",
       "    </tr>\n",
       "  </thead>\n",
       "  <tbody>\n",
       "    <tr>\n",
       "      <td>0</td>\n",
       "      <td>17</td>\n",
       "      <td>white-knight-chronicles-ii</td>\n",
       "      <td>White Knight Chronicles II</td>\n",
       "      <td>NaN</td>\n",
       "      <td>NaN</td>\n",
       "      <td>NaN</td>\n",
       "      <td>8/2/2019 16:21</td>\n",
       "      <td>NaN</td>\n",
       "      <td>0</td>\n",
       "      <td>0</td>\n",
       "      <td>...</td>\n",
       "      <td>D3 Publisher of America</td>\n",
       "      <td>NaN</td>\n",
       "      <td>NaN</td>\n",
       "      <td>Teen</td>\n",
       "      <td>0</td>\n",
       "      <td>1</td>\n",
       "      <td>1</td>\n",
       "      <td>0</td>\n",
       "      <td>0</td>\n",
       "      <td>1</td>\n",
       "    </tr>\n",
       "    <tr>\n",
       "      <td>1</td>\n",
       "      <td>18</td>\n",
       "      <td>motionsports-adrenaline</td>\n",
       "      <td>MotionSports: Adrenaline</td>\n",
       "      <td>NaN</td>\n",
       "      <td>25102011.0</td>\n",
       "      <td>NaN</td>\n",
       "      <td>8/2/2019 16:25</td>\n",
       "      <td>NaN</td>\n",
       "      <td>0</td>\n",
       "      <td>0</td>\n",
       "      <td>...</td>\n",
       "      <td>Ubisoft</td>\n",
       "      <td>Sports</td>\n",
       "      <td>Ubisoft Entertainment</td>\n",
       "      <td>Everyone 10+</td>\n",
       "      <td>0</td>\n",
       "      <td>1</td>\n",
       "      <td>1</td>\n",
       "      <td>0</td>\n",
       "      <td>0</td>\n",
       "      <td>0</td>\n",
       "    </tr>\n",
       "    <tr>\n",
       "      <td>2</td>\n",
       "      <td>18</td>\n",
       "      <td>motionsports-adrenaline</td>\n",
       "      <td>MotionSports: Adrenaline</td>\n",
       "      <td>NaN</td>\n",
       "      <td>25102011.0</td>\n",
       "      <td>NaN</td>\n",
       "      <td>8/2/2019 16:25</td>\n",
       "      <td>NaN</td>\n",
       "      <td>0</td>\n",
       "      <td>0</td>\n",
       "      <td>...</td>\n",
       "      <td>Ubisoft</td>\n",
       "      <td>Sports</td>\n",
       "      <td>Ubisoft Entertainment</td>\n",
       "      <td>Everyone 10+</td>\n",
       "      <td>0</td>\n",
       "      <td>1</td>\n",
       "      <td>1</td>\n",
       "      <td>0</td>\n",
       "      <td>0</td>\n",
       "      <td>0</td>\n",
       "    </tr>\n",
       "    <tr>\n",
       "      <td>3</td>\n",
       "      <td>49</td>\n",
       "      <td>persona-5</td>\n",
       "      <td>Persona 5</td>\n",
       "      <td>93.0</td>\n",
       "      <td>15092016.0</td>\n",
       "      <td>NaN</td>\n",
       "      <td>11/16/2020 20:26</td>\n",
       "      <td>http://persona5.jp/</td>\n",
       "      <td>438</td>\n",
       "      <td>5</td>\n",
       "      <td>...</td>\n",
       "      <td>Atlus</td>\n",
       "      <td>Action||Adventure||RPG</td>\n",
       "      <td>Deep Silver||Atlus||Buka Entertainment</td>\n",
       "      <td>Mature</td>\n",
       "      <td>180</td>\n",
       "      <td>1556</td>\n",
       "      <td>635</td>\n",
       "      <td>353</td>\n",
       "      <td>130</td>\n",
       "      <td>228</td>\n",
       "    </tr>\n",
       "    <tr>\n",
       "      <td>4</td>\n",
       "      <td>49</td>\n",
       "      <td>persona-5</td>\n",
       "      <td>Persona 5</td>\n",
       "      <td>93.0</td>\n",
       "      <td>15092016.0</td>\n",
       "      <td>NaN</td>\n",
       "      <td>11/16/2020 20:26</td>\n",
       "      <td>http://persona5.jp/</td>\n",
       "      <td>438</td>\n",
       "      <td>5</td>\n",
       "      <td>...</td>\n",
       "      <td>Atlus</td>\n",
       "      <td>Action||Adventure||RPG</td>\n",
       "      <td>Deep Silver||Atlus||Buka Entertainment</td>\n",
       "      <td>Mature</td>\n",
       "      <td>180</td>\n",
       "      <td>1556</td>\n",
       "      <td>635</td>\n",
       "      <td>353</td>\n",
       "      <td>130</td>\n",
       "      <td>228</td>\n",
       "    </tr>\n",
       "    <tr>\n",
       "      <td>...</td>\n",
       "      <td>...</td>\n",
       "      <td>...</td>\n",
       "      <td>...</td>\n",
       "      <td>...</td>\n",
       "      <td>...</td>\n",
       "      <td>...</td>\n",
       "      <td>...</td>\n",
       "      <td>...</td>\n",
       "      <td>...</td>\n",
       "      <td>...</td>\n",
       "      <td>...</td>\n",
       "      <td>...</td>\n",
       "      <td>...</td>\n",
       "      <td>...</td>\n",
       "      <td>...</td>\n",
       "      <td>...</td>\n",
       "      <td>...</td>\n",
       "      <td>...</td>\n",
       "      <td>...</td>\n",
       "      <td>...</td>\n",
       "      <td>...</td>\n",
       "    </tr>\n",
       "    <tr>\n",
       "      <td>9815</td>\n",
       "      <td>516112</td>\n",
       "      <td>captain-tsubasa-new-kick-off</td>\n",
       "      <td>Captain Tsubasa: New Kick Off</td>\n",
       "      <td>NaN</td>\n",
       "      <td>20052010.0</td>\n",
       "      <td>NaN</td>\n",
       "      <td>11/7/2020 21:04</td>\n",
       "      <td>NaN</td>\n",
       "      <td>0</td>\n",
       "      <td>0</td>\n",
       "      <td>...</td>\n",
       "      <td>Konami Digital Entertainment</td>\n",
       "      <td>Sports</td>\n",
       "      <td>Konami</td>\n",
       "      <td>NaN</td>\n",
       "      <td>0</td>\n",
       "      <td>0</td>\n",
       "      <td>0</td>\n",
       "      <td>0</td>\n",
       "      <td>1</td>\n",
       "      <td>0</td>\n",
       "    </tr>\n",
       "    <tr>\n",
       "      <td>9816</td>\n",
       "      <td>517328</td>\n",
       "      <td>hercules-the-legendary-journeys</td>\n",
       "      <td>Hercules: The Legendary Journeys</td>\n",
       "      <td>55.0</td>\n",
       "      <td>17112000.0</td>\n",
       "      <td>NaN</td>\n",
       "      <td>11/12/2020 15:04</td>\n",
       "      <td>NaN</td>\n",
       "      <td>0</td>\n",
       "      <td>0</td>\n",
       "      <td>...</td>\n",
       "      <td>Player 1</td>\n",
       "      <td>Action||Adventure</td>\n",
       "      <td>Titus Software</td>\n",
       "      <td>NaN</td>\n",
       "      <td>0</td>\n",
       "      <td>0</td>\n",
       "      <td>1</td>\n",
       "      <td>0</td>\n",
       "      <td>0</td>\n",
       "      <td>0</td>\n",
       "    </tr>\n",
       "    <tr>\n",
       "      <td>9817</td>\n",
       "      <td>517619</td>\n",
       "      <td>exhibition</td>\n",
       "      <td>Exhibition</td>\n",
       "      <td>NaN</td>\n",
       "      <td>12112020.0</td>\n",
       "      <td>NaN</td>\n",
       "      <td>11/13/2020 3:42</td>\n",
       "      <td>NaN</td>\n",
       "      <td>0</td>\n",
       "      <td>0</td>\n",
       "      <td>...</td>\n",
       "      <td>OAI</td>\n",
       "      <td>NaN</td>\n",
       "      <td>NaN</td>\n",
       "      <td>NaN</td>\n",
       "      <td>0</td>\n",
       "      <td>0</td>\n",
       "      <td>0</td>\n",
       "      <td>0</td>\n",
       "      <td>0</td>\n",
       "      <td>0</td>\n",
       "    </tr>\n",
       "    <tr>\n",
       "      <td>9818</td>\n",
       "      <td>519041</td>\n",
       "      <td>persona-2</td>\n",
       "      <td>Persona</td>\n",
       "      <td>NaN</td>\n",
       "      <td>15112020.0</td>\n",
       "      <td>NaN</td>\n",
       "      <td>11/16/2020 4:07</td>\n",
       "      <td>NaN</td>\n",
       "      <td>0</td>\n",
       "      <td>0</td>\n",
       "      <td>...</td>\n",
       "      <td>Walrusware</td>\n",
       "      <td>NaN</td>\n",
       "      <td>NaN</td>\n",
       "      <td>NaN</td>\n",
       "      <td>0</td>\n",
       "      <td>0</td>\n",
       "      <td>0</td>\n",
       "      <td>0</td>\n",
       "      <td>0</td>\n",
       "      <td>0</td>\n",
       "    </tr>\n",
       "    <tr>\n",
       "      <td>9819</td>\n",
       "      <td>520307</td>\n",
       "      <td>vampire-night</td>\n",
       "      <td>Vampire Night</td>\n",
       "      <td>NaN</td>\n",
       "      <td>1012000.0</td>\n",
       "      <td>NaN</td>\n",
       "      <td>11/18/2020 10:15</td>\n",
       "      <td>NaN</td>\n",
       "      <td>0</td>\n",
       "      <td>0</td>\n",
       "      <td>...</td>\n",
       "      <td>Wow Entertainment</td>\n",
       "      <td>Shooter</td>\n",
       "      <td>Namco</td>\n",
       "      <td>NaN</td>\n",
       "      <td>0</td>\n",
       "      <td>0</td>\n",
       "      <td>0</td>\n",
       "      <td>0</td>\n",
       "      <td>1</td>\n",
       "      <td>0</td>\n",
       "    </tr>\n",
       "  </tbody>\n",
       "</table>\n",
       "<p>9820 rows × 27 columns</p>\n",
       "</div>"
      ],
      "text/plain": [
       "          id                             slug  \\\n",
       "0         17       white-knight-chronicles-ii   \n",
       "1         18          motionsports-adrenaline   \n",
       "2         18          motionsports-adrenaline   \n",
       "3         49                        persona-5   \n",
       "4         49                        persona-5   \n",
       "...      ...                              ...   \n",
       "9815  516112     captain-tsubasa-new-kick-off   \n",
       "9816  517328  hercules-the-legendary-journeys   \n",
       "9817  517619                       exhibition   \n",
       "9818  519041                        persona-2   \n",
       "9819  520307                    vampire-night   \n",
       "\n",
       "                                  name  metacritic    released  tba  \\\n",
       "0           White Knight Chronicles II         NaN         NaN  NaN   \n",
       "1             MotionSports: Adrenaline         NaN  25102011.0  NaN   \n",
       "2             MotionSports: Adrenaline         NaN  25102011.0  NaN   \n",
       "3                            Persona 5        93.0  15092016.0  NaN   \n",
       "4                            Persona 5        93.0  15092016.0  NaN   \n",
       "...                                ...         ...         ...  ...   \n",
       "9815     Captain Tsubasa: New Kick Off         NaN  20052010.0  NaN   \n",
       "9816  Hercules: The Legendary Journeys        55.0  17112000.0  NaN   \n",
       "9817                        Exhibition         NaN  12112020.0  NaN   \n",
       "9818                           Persona         NaN  15112020.0  NaN   \n",
       "9819                     Vampire Night         NaN   1012000.0  NaN   \n",
       "\n",
       "               updated              website  rating  rating_top  ...  \\\n",
       "0       8/2/2019 16:21                  NaN       0           0  ...   \n",
       "1       8/2/2019 16:25                  NaN       0           0  ...   \n",
       "2       8/2/2019 16:25                  NaN       0           0  ...   \n",
       "3     11/16/2020 20:26  http://persona5.jp/     438           5  ...   \n",
       "4     11/16/2020 20:26  http://persona5.jp/     438           5  ...   \n",
       "...                ...                  ...     ...         ...  ...   \n",
       "9815   11/7/2020 21:04                  NaN       0           0  ...   \n",
       "9816  11/12/2020 15:04                  NaN       0           0  ...   \n",
       "9817   11/13/2020 3:42                  NaN       0           0  ...   \n",
       "9818   11/16/2020 4:07                  NaN       0           0  ...   \n",
       "9819  11/18/2020 10:15                  NaN       0           0  ...   \n",
       "\n",
       "                        developers                  genres  \\\n",
       "0          D3 Publisher of America                     NaN   \n",
       "1                          Ubisoft                  Sports   \n",
       "2                          Ubisoft                  Sports   \n",
       "3                            Atlus  Action||Adventure||RPG   \n",
       "4                            Atlus  Action||Adventure||RPG   \n",
       "...                            ...                     ...   \n",
       "9815  Konami Digital Entertainment                  Sports   \n",
       "9816                      Player 1       Action||Adventure   \n",
       "9817                           OAI                     NaN   \n",
       "9818                    Walrusware                     NaN   \n",
       "9819             Wow Entertainment                 Shooter   \n",
       "\n",
       "                                  publishers   esrb_rating  added_status_yet  \\\n",
       "0                                        NaN          Teen                 0   \n",
       "1                      Ubisoft Entertainment  Everyone 10+                 0   \n",
       "2                      Ubisoft Entertainment  Everyone 10+                 0   \n",
       "3     Deep Silver||Atlus||Buka Entertainment        Mature               180   \n",
       "4     Deep Silver||Atlus||Buka Entertainment        Mature               180   \n",
       "...                                      ...           ...               ...   \n",
       "9815                                  Konami           NaN                 0   \n",
       "9816                          Titus Software           NaN                 0   \n",
       "9817                                     NaN           NaN                 0   \n",
       "9818                                     NaN           NaN                 0   \n",
       "9819                                   Namco           NaN                 0   \n",
       "\n",
       "      added_status_owned added_status_beaten added_status_toplay  \\\n",
       "0                      1                   1                   0   \n",
       "1                      1                   1                   0   \n",
       "2                      1                   1                   0   \n",
       "3                   1556                 635                 353   \n",
       "4                   1556                 635                 353   \n",
       "...                  ...                 ...                 ...   \n",
       "9815                   0                   0                   0   \n",
       "9816                   0                   1                   0   \n",
       "9817                   0                   0                   0   \n",
       "9818                   0                   0                   0   \n",
       "9819                   0                   0                   0   \n",
       "\n",
       "     added_status_dropped added_status_playing  \n",
       "0                       0                    1  \n",
       "1                       0                    0  \n",
       "2                       0                    0  \n",
       "3                     130                  228  \n",
       "4                     130                  228  \n",
       "...                   ...                  ...  \n",
       "9815                    1                    0  \n",
       "9816                    0                    0  \n",
       "9817                    0                    0  \n",
       "9818                    0                    0  \n",
       "9819                    1                    0  \n",
       "\n",
       "[9820 rows x 27 columns]"
      ]
     },
     "execution_count": 3,
     "metadata": {},
     "output_type": "execute_result"
    }
   ],
   "source": [
    "from io import BytesIO\n",
    "import requests\n",
    "spreadsheet_id = \"1zLDcpYndMunIBPl9NV_c_KGW7irAvuBSER41GkRp9uQ\"\n",
    "file_name = 'https://docs.google.com/spreadsheets/d/{}/export?format=csv'.format(spreadsheet_id)\n",
    "r = requests.get(file_name)\n",
    "df2 = pd.read_csv(BytesIO(r.content),index_col=None)\n",
    "df2\n"
   ]
  },
  {
   "cell_type": "markdown",
   "metadata": {},
   "source": [
    "We are using another dataset from kaggle to fill some missing values in project. "
   ]
  },
  {
   "cell_type": "code",
   "execution_count": 4,
   "metadata": {},
   "outputs": [
    {
     "data": {
      "text/plain": [
       "id                      0\n",
       "slug                    0\n",
       "name                    0\n",
       "metacritic              0\n",
       "released                0\n",
       "tba                     0\n",
       "updated                 0\n",
       "website                 0\n",
       "rating                  0\n",
       "rating_top              0\n",
       "playtime                0\n",
       "achievements_count      0\n",
       "ratings_count           0\n",
       "suggestions_count       0\n",
       "game_series_count       0\n",
       "reviews_count           0\n",
       "platforms               0\n",
       "developers              0\n",
       "genres                  0\n",
       "publishers              0\n",
       "esrb_rating             0\n",
       "added_status_yet        0\n",
       "added_status_owned      0\n",
       "added_status_beaten     0\n",
       "added_status_toplay     0\n",
       "added_status_dropped    0\n",
       "added_status_playing    0\n",
       "dtype: int64"
      ]
     },
     "execution_count": 4,
     "metadata": {},
     "output_type": "execute_result"
    }
   ],
   "source": [
    "df2 = df2.dropna()\n",
    "df2 = df2.reset_index(drop=True)\n",
    "df2.isnull().sum()\n"
   ]
  },
  {
   "cell_type": "markdown",
   "metadata": {},
   "source": [
    "We processed the data only which we needed from our second dataframe so, here we get rid of unwanted data."
   ]
  },
  {
   "cell_type": "code",
   "execution_count": 5,
   "metadata": {},
   "outputs": [],
   "source": [
    "df[\"name\"].fillna(\"No Name\", inplace = True) \n",
    "df[\"genre\"].fillna(\"No genre\", inplace = True) "
   ]
  },
  {
   "cell_type": "markdown",
   "metadata": {},
   "source": [
    "we have only two missing values in name and genre column which we gonna fill with No name and No genre for now we are gonna deal with it later"
   ]
  },
  {
   "cell_type": "code",
   "execution_count": 6,
   "metadata": {},
   "outputs": [],
   "source": [
    "df2['released'] = pd.to_datetime(df2['released'],format='%Y-%m-%d')\n",
    "df2['released'] = pd.DatetimeIndex(df2['released']).year"
   ]
  },
  {
   "cell_type": "code",
   "execution_count": 7,
   "metadata": {},
   "outputs": [
    {
     "data": {
      "text/plain": [
       "269"
      ]
     },
     "execution_count": 7,
     "metadata": {},
     "output_type": "execute_result"
    }
   ],
   "source": [
    "release_dict = pd.Series(df2[\"released\"].values,index=df2[\"name\"]).to_dict()\n",
    "df['year_of_release'] = df['year_of_release'].fillna(df['name'].map(release_dict))\n",
    "df['year_of_release'].isnull().sum()"
   ]
  },
  {
   "cell_type": "markdown",
   "metadata": {},
   "source": [
    "we tried to fill missing values for year of release from our second dataframe but we got still some missing values as ma be some names did not match similarly with our original dataset."
   ]
  },
  {
   "cell_type": "code",
   "execution_count": 8,
   "metadata": {},
   "outputs": [
    {
     "data": {
      "text/plain": [
       "0"
      ]
     },
     "execution_count": 8,
     "metadata": {},
     "output_type": "execute_result"
    }
   ],
   "source": [
    "df['year_of_release_noempty']= df.groupby('genre')['year_of_release'].transform(lambda y : y.fillna(y.mode()[0]))\n",
    "\n",
    "df['year_of_release_noempty'].isnull().sum()"
   ]
  },
  {
   "cell_type": "markdown",
   "metadata": {},
   "source": [
    "We are gonna fill those missing years with mode as we are gonna use most common year in those perticular genre to fill missing values. we have only 269 missing values which are less than 1% of what we have so, I don't think it is going to affect our data and further callculation.\n",
    "\n",
    "Mode is the most frequently occuring value in a dataset or distribution. A dataset can have more than one mode. which here help us to get most frequent year to fill up for that perticular genre."
   ]
  },
  {
   "cell_type": "code",
   "execution_count": 9,
   "metadata": {},
   "outputs": [
    {
     "data": {
      "text/plain": [
       "0"
      ]
     },
     "execution_count": 9,
     "metadata": {},
     "output_type": "execute_result"
    }
   ],
   "source": [
    "df['critic_score_noempty']= df.groupby('genre')['critic_score'].transform(lambda y : y.fillna(y.mean()))\n",
    "df[\"critic_score_noempty\"].fillna(\"0\", inplace = True) \n",
    "df['critic_score_noempty'].isnull().sum()\n"
   ]
  },
  {
   "cell_type": "markdown",
   "metadata": {},
   "source": [
    "Critic Score missing: It may be because critics don't want to rate the game as it may be released for short time or it may be not that popular so we are filling it with mean of grouping it with genre so, it should not affect data. and we got two missing values which we are gonna fill with 0 as those values for No name and No genre"
   ]
  },
  {
   "cell_type": "code",
   "execution_count": 10,
   "metadata": {},
   "outputs": [],
   "source": [
    "df.loc[df['user_score'] == 'tbd','user_score']= 'NaN'\n",
    "df['user_score'] = df['user_score'].astype(float)#weconverted datatype to float"
   ]
  },
  {
   "cell_type": "markdown",
   "metadata": {},
   "source": [
    "tbd is to be determined which we will treat as missing value."
   ]
  },
  {
   "cell_type": "code",
   "execution_count": 11,
   "metadata": {},
   "outputs": [
    {
     "data": {
      "text/plain": [
       "2"
      ]
     },
     "execution_count": 11,
     "metadata": {},
     "output_type": "execute_result"
    }
   ],
   "source": [
    "df['user_score_noempty']= df.groupby('genre')['user_score'].transform(lambda y : y.fillna(y.mean()))\n",
    "df['user_score_noempty'].isnull().sum()"
   ]
  },
  {
   "cell_type": "code",
   "execution_count": 12,
   "metadata": {},
   "outputs": [
    {
     "data": {
      "text/plain": [
       "0"
      ]
     },
     "execution_count": 12,
     "metadata": {},
     "output_type": "execute_result"
    }
   ],
   "source": [
    "df[\"user_score_noempty\"].fillna(\"0\", inplace = True) \n",
    "df['user_score_noempty'].isnull().sum()"
   ]
  },
  {
   "cell_type": "markdown",
   "metadata": {},
   "source": [
    "We followed same process as above to fill missing values in User Score. User Score has missing values because sometimes user plays a game and user does'nt rate it because he is not fully satisfied and neither fully dissappointed."
   ]
  },
  {
   "cell_type": "markdown",
   "metadata": {},
   "source": [
    "## 2.3 Calculate the total sales (the sum of sales in all regions) for each game and put these values in a separate column. "
   ]
  },
  {
   "cell_type": "code",
   "execution_count": 13,
   "metadata": {},
   "outputs": [
    {
     "data": {
      "text/html": [
       "<div>\n",
       "<style scoped>\n",
       "    .dataframe tbody tr th:only-of-type {\n",
       "        vertical-align: middle;\n",
       "    }\n",
       "\n",
       "    .dataframe tbody tr th {\n",
       "        vertical-align: top;\n",
       "    }\n",
       "\n",
       "    .dataframe thead th {\n",
       "        text-align: right;\n",
       "    }\n",
       "</style>\n",
       "<table border=\"1\" class=\"dataframe\">\n",
       "  <thead>\n",
       "    <tr style=\"text-align: right;\">\n",
       "      <th></th>\n",
       "      <th>name</th>\n",
       "      <th>platform</th>\n",
       "      <th>year_of_release</th>\n",
       "      <th>genre</th>\n",
       "      <th>na_sales</th>\n",
       "      <th>eu_sales</th>\n",
       "      <th>jp_sales</th>\n",
       "      <th>other_sales</th>\n",
       "      <th>critic_score</th>\n",
       "      <th>user_score</th>\n",
       "      <th>rating</th>\n",
       "      <th>year_of_release_noempty</th>\n",
       "      <th>critic_score_noempty</th>\n",
       "      <th>user_score_noempty</th>\n",
       "      <th>total_sales</th>\n",
       "    </tr>\n",
       "  </thead>\n",
       "  <tbody>\n",
       "    <tr>\n",
       "      <td>0</td>\n",
       "      <td>Wii Sports</td>\n",
       "      <td>Wii</td>\n",
       "      <td>2006.0</td>\n",
       "      <td>Sports</td>\n",
       "      <td>41.36</td>\n",
       "      <td>28.96</td>\n",
       "      <td>3.77</td>\n",
       "      <td>8.45</td>\n",
       "      <td>76.0</td>\n",
       "      <td>8.0</td>\n",
       "      <td>E</td>\n",
       "      <td>2006.0</td>\n",
       "      <td>76</td>\n",
       "      <td>8</td>\n",
       "      <td>82.54</td>\n",
       "    </tr>\n",
       "    <tr>\n",
       "      <td>1</td>\n",
       "      <td>Super Mario Bros.</td>\n",
       "      <td>NES</td>\n",
       "      <td>1985.0</td>\n",
       "      <td>Platform</td>\n",
       "      <td>29.08</td>\n",
       "      <td>3.58</td>\n",
       "      <td>6.81</td>\n",
       "      <td>0.77</td>\n",
       "      <td>NaN</td>\n",
       "      <td>NaN</td>\n",
       "      <td>NaN</td>\n",
       "      <td>1985.0</td>\n",
       "      <td>68.0584</td>\n",
       "      <td>7.3014</td>\n",
       "      <td>40.24</td>\n",
       "    </tr>\n",
       "    <tr>\n",
       "      <td>2</td>\n",
       "      <td>Mario Kart Wii</td>\n",
       "      <td>Wii</td>\n",
       "      <td>2008.0</td>\n",
       "      <td>Racing</td>\n",
       "      <td>15.68</td>\n",
       "      <td>12.76</td>\n",
       "      <td>3.79</td>\n",
       "      <td>3.29</td>\n",
       "      <td>82.0</td>\n",
       "      <td>8.3</td>\n",
       "      <td>E</td>\n",
       "      <td>2008.0</td>\n",
       "      <td>82</td>\n",
       "      <td>8.3</td>\n",
       "      <td>35.52</td>\n",
       "    </tr>\n",
       "    <tr>\n",
       "      <td>3</td>\n",
       "      <td>Wii Sports Resort</td>\n",
       "      <td>Wii</td>\n",
       "      <td>2009.0</td>\n",
       "      <td>Sports</td>\n",
       "      <td>15.61</td>\n",
       "      <td>10.93</td>\n",
       "      <td>3.28</td>\n",
       "      <td>2.95</td>\n",
       "      <td>80.0</td>\n",
       "      <td>8.0</td>\n",
       "      <td>E</td>\n",
       "      <td>2009.0</td>\n",
       "      <td>80</td>\n",
       "      <td>8</td>\n",
       "      <td>32.77</td>\n",
       "    </tr>\n",
       "    <tr>\n",
       "      <td>4</td>\n",
       "      <td>Pokemon Red/Pokemon Blue</td>\n",
       "      <td>GB</td>\n",
       "      <td>1996.0</td>\n",
       "      <td>Role-Playing</td>\n",
       "      <td>11.27</td>\n",
       "      <td>8.89</td>\n",
       "      <td>10.22</td>\n",
       "      <td>1.00</td>\n",
       "      <td>NaN</td>\n",
       "      <td>NaN</td>\n",
       "      <td>NaN</td>\n",
       "      <td>1996.0</td>\n",
       "      <td>72.6526</td>\n",
       "      <td>7.61952</td>\n",
       "      <td>31.38</td>\n",
       "    </tr>\n",
       "  </tbody>\n",
       "</table>\n",
       "</div>"
      ],
      "text/plain": [
       "                       name platform  year_of_release         genre  na_sales  \\\n",
       "0                Wii Sports      Wii           2006.0        Sports     41.36   \n",
       "1         Super Mario Bros.      NES           1985.0      Platform     29.08   \n",
       "2            Mario Kart Wii      Wii           2008.0        Racing     15.68   \n",
       "3         Wii Sports Resort      Wii           2009.0        Sports     15.61   \n",
       "4  Pokemon Red/Pokemon Blue       GB           1996.0  Role-Playing     11.27   \n",
       "\n",
       "   eu_sales  jp_sales  other_sales  critic_score  user_score rating  \\\n",
       "0     28.96      3.77         8.45          76.0         8.0      E   \n",
       "1      3.58      6.81         0.77           NaN         NaN    NaN   \n",
       "2     12.76      3.79         3.29          82.0         8.3      E   \n",
       "3     10.93      3.28         2.95          80.0         8.0      E   \n",
       "4      8.89     10.22         1.00           NaN         NaN    NaN   \n",
       "\n",
       "   year_of_release_noempty critic_score_noempty user_score_noempty  \\\n",
       "0                   2006.0                   76                  8   \n",
       "1                   1985.0              68.0584             7.3014   \n",
       "2                   2008.0                   82                8.3   \n",
       "3                   2009.0                   80                  8   \n",
       "4                   1996.0              72.6526            7.61952   \n",
       "\n",
       "   total_sales  \n",
       "0        82.54  \n",
       "1        40.24  \n",
       "2        35.52  \n",
       "3        32.77  \n",
       "4        31.38  "
      ]
     },
     "execution_count": 13,
     "metadata": {},
     "output_type": "execute_result"
    }
   ],
   "source": [
    "\n",
    "df['total_sales'] = df['na_sales']+df['eu_sales']+df['jp_sales']+df['other_sales']\n",
    "df.head()"
   ]
  },
  {
   "cell_type": "markdown",
   "metadata": {},
   "source": [
    "We calculated total sales of each game by combining sales in each region"
   ]
  },
  {
   "cell_type": "code",
   "execution_count": 14,
   "metadata": {},
   "outputs": [
    {
     "data": {
      "text/plain": [
       "Index(['name', 'platform', 'year_of_release', 'genre', 'na_sales', 'eu_sales',\n",
       "       'jp_sales', 'other_sales', 'critic_score', 'user_score', 'rating',\n",
       "       'year_of_release_noempty', 'critic_score_noempty', 'user_score_noempty',\n",
       "       'total_sales'],\n",
       "      dtype='object')"
      ]
     },
     "execution_count": 14,
     "metadata": {},
     "output_type": "execute_result"
    }
   ],
   "source": [
    "df.columns"
   ]
  },
  {
   "cell_type": "code",
   "execution_count": 15,
   "metadata": {},
   "outputs": [],
   "source": [
    "new_df = df[['name', 'platform', 'genre', 'na_sales', 'eu_sales',\n",
    "       'jp_sales', 'other_sales','year_of_release_noempty', 'critic_score_noempty',\n",
    "       'user_score_noempty', 'rating','total_sales']].copy()\n",
    "\n",
    "new_df = new_df.query('genre != \"No genre\" and name != \"No Name\"')"
   ]
  },
  {
   "cell_type": "code",
   "execution_count": 16,
   "metadata": {},
   "outputs": [
    {
     "data": {
      "text/plain": [
       "{'Action': 'T',\n",
       " 'Adventure': 'E',\n",
       " 'Fighting': 'T',\n",
       " 'Misc': 'E',\n",
       " 'Platform': 'E',\n",
       " 'Puzzle': 'E',\n",
       " 'Racing': 'E',\n",
       " 'Role-Playing': 'T',\n",
       " 'Shooter': 'M',\n",
       " 'Simulation': 'E',\n",
       " 'Sports': 'E',\n",
       " 'Strategy': 'T'}"
      ]
     },
     "execution_count": 16,
     "metadata": {},
     "output_type": "execute_result"
    }
   ],
   "source": [
    "rating_grouped = new_df.groupby('genre')['rating'].agg(pd.Series.mode).reset_index()\n",
    "rating_dict=dict(zip(rating_grouped.genre,rating_grouped.rating))\n",
    "rating_dict"
   ]
  },
  {
   "cell_type": "code",
   "execution_count": 17,
   "metadata": {},
   "outputs": [],
   "source": [
    "new_df['rating_noempty'] = new_df['rating'].fillna(new_df['genre'].map(rating_dict))\n"
   ]
  },
  {
   "cell_type": "markdown",
   "metadata": {},
   "source": [
    "Here we have taken all processed data without any missing values."
   ]
  },
  {
   "cell_type": "code",
   "execution_count": 18,
   "metadata": {},
   "outputs": [
    {
     "data": {
      "text/plain": [
       "name                          0\n",
       "platform                      0\n",
       "genre                         0\n",
       "na_sales                      0\n",
       "eu_sales                      0\n",
       "jp_sales                      0\n",
       "other_sales                   0\n",
       "year_of_release_noempty       0\n",
       "critic_score_noempty          0\n",
       "user_score_noempty            0\n",
       "rating                     6764\n",
       "total_sales                   0\n",
       "rating_noempty                0\n",
       "dtype: int64"
      ]
     },
     "execution_count": 18,
     "metadata": {},
     "output_type": "execute_result"
    }
   ],
   "source": [
    "new_df.isnull().sum()"
   ]
  },
  {
   "cell_type": "code",
   "execution_count": 19,
   "metadata": {},
   "outputs": [],
   "source": [
    "del new_df['rating']"
   ]
  },
  {
   "cell_type": "code",
   "execution_count": 20,
   "metadata": {},
   "outputs": [
    {
     "name": "stdout",
     "output_type": "stream",
     "text": [
      "<class 'pandas.core.frame.DataFrame'>\n",
      "Int64Index: 16713 entries, 0 to 16714\n",
      "Data columns (total 12 columns):\n",
      "name                       16713 non-null object\n",
      "platform                   16713 non-null object\n",
      "genre                      16713 non-null object\n",
      "na_sales                   16713 non-null float64\n",
      "eu_sales                   16713 non-null float64\n",
      "jp_sales                   16713 non-null float64\n",
      "other_sales                16713 non-null float64\n",
      "year_of_release_noempty    16713 non-null float64\n",
      "critic_score_noempty       16713 non-null object\n",
      "user_score_noempty         16713 non-null object\n",
      "total_sales                16713 non-null float64\n",
      "rating_noempty             16713 non-null object\n",
      "dtypes: float64(6), object(6)\n",
      "memory usage: 1.7+ MB\n"
     ]
    }
   ],
   "source": [
    "new_df.head()\n",
    "new_df.isnull().sum()\n",
    "new_df.info()"
   ]
  },
  {
   "cell_type": "markdown",
   "metadata": {},
   "source": [
    "We have created new dataset which does not have any missing values which will help us in further calculations"
   ]
  },
  {
   "cell_type": "markdown",
   "metadata": {},
   "source": [
    "# 3. Analyze the data"
   ]
  },
  {
   "cell_type": "markdown",
   "metadata": {},
   "source": [
    "## 3.1 Look at how many games were released in different years. Is the data for every period significant? "
   ]
  },
  {
   "cell_type": "code",
   "execution_count": 21,
   "metadata": {},
   "outputs": [
    {
     "data": {
      "text/html": [
       "<div>\n",
       "<style scoped>\n",
       "    .dataframe tbody tr th:only-of-type {\n",
       "        vertical-align: middle;\n",
       "    }\n",
       "\n",
       "    .dataframe tbody tr th {\n",
       "        vertical-align: top;\n",
       "    }\n",
       "\n",
       "    .dataframe thead tr th {\n",
       "        text-align: left;\n",
       "    }\n",
       "\n",
       "    .dataframe thead tr:last-of-type th {\n",
       "        text-align: right;\n",
       "    }\n",
       "</style>\n",
       "<table border=\"1\" class=\"dataframe\">\n",
       "  <thead>\n",
       "    <tr>\n",
       "      <th></th>\n",
       "      <th>name</th>\n",
       "    </tr>\n",
       "    <tr>\n",
       "      <th></th>\n",
       "      <th>count</th>\n",
       "    </tr>\n",
       "    <tr>\n",
       "      <th>year_of_release_noempty</th>\n",
       "      <th></th>\n",
       "    </tr>\n",
       "  </thead>\n",
       "  <tbody>\n",
       "    <tr>\n",
       "      <td>1980.0</td>\n",
       "      <td>9</td>\n",
       "    </tr>\n",
       "    <tr>\n",
       "      <td>1981.0</td>\n",
       "      <td>46</td>\n",
       "    </tr>\n",
       "    <tr>\n",
       "      <td>1982.0</td>\n",
       "      <td>36</td>\n",
       "    </tr>\n",
       "    <tr>\n",
       "      <td>1983.0</td>\n",
       "      <td>17</td>\n",
       "    </tr>\n",
       "    <tr>\n",
       "      <td>1984.0</td>\n",
       "      <td>14</td>\n",
       "    </tr>\n",
       "  </tbody>\n",
       "</table>\n",
       "</div>"
      ],
      "text/plain": [
       "                         name\n",
       "                        count\n",
       "year_of_release_noempty      \n",
       "1980.0                      9\n",
       "1981.0                     46\n",
       "1982.0                     36\n",
       "1983.0                     17\n",
       "1984.0                     14"
      ]
     },
     "execution_count": 21,
     "metadata": {},
     "output_type": "execute_result"
    }
   ],
   "source": [
    "games_per_year = new_df.groupby('year_of_release_noempty').agg({'name': ['count']})\n",
    "games_per_year.head()"
   ]
  },
  {
   "cell_type": "code",
   "execution_count": 22,
   "metadata": {},
   "outputs": [
    {
     "data": {
      "text/plain": [
       "Text(0, 0.5, 'number of games')"
      ]
     },
     "execution_count": 22,
     "metadata": {},
     "output_type": "execute_result"
    },
    {
     "data": {
      "image/png": "[encoded data removed]",
      "text/plain": [
       "<Figure size 432x288 with 1 Axes>"
      ]
     },
     "metadata": {
      "needs_background": "light"
     },
     "output_type": "display_data"
    }
   ],
   "source": [
    "games_per_year.plot(sharex=True, sharey=True,kind='bar',legend = True)\n",
    "pl.title('games released per year')\n",
    "pl.xlabel('year')\n",
    "pl.ylabel('number of games')"
   ]
  },
  {
   "cell_type": "markdown",
   "metadata": {},
   "source": [
    "Here we have analysed the data about the number of games released per year and here we can see from year 2000 and further we have more volume of games released per year.\n",
    "\n",
    "Number of games released over the period of time but the video games started to become popular from yearly 2000 when high quality gaming become passion for some individuals and then compitition increased in the market along with high quality equipments which comes with platforms as it is directly related to platforms number of platforms released more number of games.\n"
   ]
  },
  {
   "cell_type": "markdown",
   "metadata": {},
   "source": [
    "## 3.2 Look at how sales varied from platform to platform. Choose the platforms with the greatest total sales and build a distribution based on data for each year. Find platforms that used to be popular but now have zero sales. How long does it generally take for new platforms to appear and old ones to fade? "
   ]
  },
  {
   "cell_type": "code",
   "execution_count": 23,
   "metadata": {},
   "outputs": [
    {
     "data": {
      "text/html": [
       "<div>\n",
       "<style scoped>\n",
       "    .dataframe tbody tr th:only-of-type {\n",
       "        vertical-align: middle;\n",
       "    }\n",
       "\n",
       "    .dataframe tbody tr th {\n",
       "        vertical-align: top;\n",
       "    }\n",
       "\n",
       "    .dataframe thead th {\n",
       "        text-align: right;\n",
       "    }\n",
       "</style>\n",
       "<table border=\"1\" class=\"dataframe\">\n",
       "  <thead>\n",
       "    <tr style=\"text-align: right;\">\n",
       "      <th></th>\n",
       "      <th>platform</th>\n",
       "      <th>total_sales</th>\n",
       "    </tr>\n",
       "  </thead>\n",
       "  <tbody>\n",
       "    <tr>\n",
       "      <td>16</td>\n",
       "      <td>PS2</td>\n",
       "      <td>1255.77</td>\n",
       "    </tr>\n",
       "    <tr>\n",
       "      <td>28</td>\n",
       "      <td>X360</td>\n",
       "      <td>971.42</td>\n",
       "    </tr>\n",
       "    <tr>\n",
       "      <td>17</td>\n",
       "      <td>PS3</td>\n",
       "      <td>939.65</td>\n",
       "    </tr>\n",
       "    <tr>\n",
       "      <td>26</td>\n",
       "      <td>Wii</td>\n",
       "      <td>907.51</td>\n",
       "    </tr>\n",
       "    <tr>\n",
       "      <td>4</td>\n",
       "      <td>DS</td>\n",
       "      <td>806.12</td>\n",
       "    </tr>\n",
       "  </tbody>\n",
       "</table>\n",
       "</div>"
      ],
      "text/plain": [
       "   platform  total_sales\n",
       "16      PS2      1255.77\n",
       "28     X360       971.42\n",
       "17      PS3       939.65\n",
       "26      Wii       907.51\n",
       "4        DS       806.12"
      ]
     },
     "execution_count": 23,
     "metadata": {},
     "output_type": "execute_result"
    }
   ],
   "source": [
    "platform_pivot = (new_df.pivot_table(index = ['platform'], values = 'total_sales',aggfunc = 'sum')).reset_index()\n",
    "platform_pivot_sorted = platform_pivot.sort_values('total_sales',ascending = False)\n",
    "platform_pivot_sorted.head(5)"
   ]
  },
  {
   "cell_type": "code",
   "execution_count": 24,
   "metadata": {},
   "outputs": [
    {
     "data": {
      "text/plain": [
       "Text(0, 0.5, 'number of sales')"
      ]
     },
     "execution_count": 24,
     "metadata": {},
     "output_type": "execute_result"
    },
    {
     "data": {
      "image/png": "[encoded data removed]",
      "text/plain": [
       "<Figure size 432x288 with 1 Axes>"
      ]
     },
     "metadata": {
      "needs_background": "light"
     },
     "output_type": "display_data"
    }
   ],
   "source": [
    "platform_pivot_sorted.plot('platform',sharex=True, sharey=True,kind='bar',legend = True)\n",
    "pl.title('total sales of games according to platform')\n",
    "pl.xlabel('platform')\n",
    "pl.ylabel('number of sales')"
   ]
  },
  {
   "cell_type": "markdown",
   "metadata": {},
   "source": [
    "Here we found out popular platform which did great in in total sales.\n",
    "when we consider complete data PS2 and X360 are leading platforms.\n"
   ]
  },
  {
   "cell_type": "markdown",
   "metadata": {},
   "source": [
    "## 3.3 Determine what period you should take data for. To do so, look at your answers to the previous questions. Disregard the data for previous years. "
   ]
  },
  {
   "cell_type": "code",
   "execution_count": 25,
   "metadata": {},
   "outputs": [
    {
     "data": {
      "text/html": [
       "<div>\n",
       "<style scoped>\n",
       "    .dataframe tbody tr th:only-of-type {\n",
       "        vertical-align: middle;\n",
       "    }\n",
       "\n",
       "    .dataframe tbody tr th {\n",
       "        vertical-align: top;\n",
       "    }\n",
       "\n",
       "    .dataframe thead th {\n",
       "        text-align: right;\n",
       "    }\n",
       "</style>\n",
       "<table border=\"1\" class=\"dataframe\">\n",
       "  <thead>\n",
       "    <tr style=\"text-align: right;\">\n",
       "      <th></th>\n",
       "      <th>name</th>\n",
       "      <th>platform</th>\n",
       "      <th>genre</th>\n",
       "      <th>na_sales</th>\n",
       "      <th>eu_sales</th>\n",
       "      <th>jp_sales</th>\n",
       "      <th>other_sales</th>\n",
       "      <th>year_of_release_noempty</th>\n",
       "      <th>critic_score_noempty</th>\n",
       "      <th>user_score_noempty</th>\n",
       "      <th>total_sales</th>\n",
       "      <th>rating_noempty</th>\n",
       "    </tr>\n",
       "  </thead>\n",
       "  <tbody>\n",
       "    <tr>\n",
       "      <td>31</td>\n",
       "      <td>Call of Duty: Black Ops 3</td>\n",
       "      <td>PS4</td>\n",
       "      <td>Shooter</td>\n",
       "      <td>6.03</td>\n",
       "      <td>5.86</td>\n",
       "      <td>0.36</td>\n",
       "      <td>2.38</td>\n",
       "      <td>2015.0</td>\n",
       "      <td>70.1811</td>\n",
       "      <td>7.04188</td>\n",
       "      <td>14.63</td>\n",
       "      <td>M</td>\n",
       "    </tr>\n",
       "    <tr>\n",
       "      <td>42</td>\n",
       "      <td>Grand Theft Auto V</td>\n",
       "      <td>PS4</td>\n",
       "      <td>Action</td>\n",
       "      <td>3.96</td>\n",
       "      <td>6.31</td>\n",
       "      <td>0.38</td>\n",
       "      <td>1.97</td>\n",
       "      <td>2014.0</td>\n",
       "      <td>97</td>\n",
       "      <td>8.3</td>\n",
       "      <td>12.62</td>\n",
       "      <td>M</td>\n",
       "    </tr>\n",
       "    <tr>\n",
       "      <td>47</td>\n",
       "      <td>Pokemon Omega Ruby/Pokemon Alpha Sapphire</td>\n",
       "      <td>3DS</td>\n",
       "      <td>Role-Playing</td>\n",
       "      <td>4.35</td>\n",
       "      <td>3.49</td>\n",
       "      <td>3.10</td>\n",
       "      <td>0.74</td>\n",
       "      <td>2014.0</td>\n",
       "      <td>72.6526</td>\n",
       "      <td>7.61952</td>\n",
       "      <td>11.68</td>\n",
       "      <td>T</td>\n",
       "    </tr>\n",
       "    <tr>\n",
       "      <td>77</td>\n",
       "      <td>FIFA 16</td>\n",
       "      <td>PS4</td>\n",
       "      <td>Sports</td>\n",
       "      <td>1.12</td>\n",
       "      <td>6.12</td>\n",
       "      <td>0.06</td>\n",
       "      <td>1.28</td>\n",
       "      <td>2015.0</td>\n",
       "      <td>82</td>\n",
       "      <td>4.3</td>\n",
       "      <td>8.58</td>\n",
       "      <td>E</td>\n",
       "    </tr>\n",
       "    <tr>\n",
       "      <td>87</td>\n",
       "      <td>Star Wars Battlefront (2015)</td>\n",
       "      <td>PS4</td>\n",
       "      <td>Shooter</td>\n",
       "      <td>2.99</td>\n",
       "      <td>3.49</td>\n",
       "      <td>0.22</td>\n",
       "      <td>1.28</td>\n",
       "      <td>2015.0</td>\n",
       "      <td>70.1811</td>\n",
       "      <td>7.04188</td>\n",
       "      <td>7.98</td>\n",
       "      <td>M</td>\n",
       "    </tr>\n",
       "    <tr>\n",
       "      <td>...</td>\n",
       "      <td>...</td>\n",
       "      <td>...</td>\n",
       "      <td>...</td>\n",
       "      <td>...</td>\n",
       "      <td>...</td>\n",
       "      <td>...</td>\n",
       "      <td>...</td>\n",
       "      <td>...</td>\n",
       "      <td>...</td>\n",
       "      <td>...</td>\n",
       "      <td>...</td>\n",
       "      <td>...</td>\n",
       "    </tr>\n",
       "    <tr>\n",
       "      <td>16264</td>\n",
       "      <td>Worms: WMD</td>\n",
       "      <td>XOne</td>\n",
       "      <td>Action</td>\n",
       "      <td>0.01</td>\n",
       "      <td>0.00</td>\n",
       "      <td>0.00</td>\n",
       "      <td>0.00</td>\n",
       "      <td>2016.0</td>\n",
       "      <td>75</td>\n",
       "      <td>8.1</td>\n",
       "      <td>0.01</td>\n",
       "      <td>E10+</td>\n",
       "    </tr>\n",
       "    <tr>\n",
       "      <td>16267</td>\n",
       "      <td>The Book of Unwritten Tales 2</td>\n",
       "      <td>WiiU</td>\n",
       "      <td>Adventure</td>\n",
       "      <td>0.00</td>\n",
       "      <td>0.01</td>\n",
       "      <td>0.00</td>\n",
       "      <td>0.00</td>\n",
       "      <td>2016.0</td>\n",
       "      <td>65.3313</td>\n",
       "      <td>7.133</td>\n",
       "      <td>0.01</td>\n",
       "      <td>T</td>\n",
       "    </tr>\n",
       "    <tr>\n",
       "      <td>16270</td>\n",
       "      <td>Hyakka Yakou</td>\n",
       "      <td>PSV</td>\n",
       "      <td>Action</td>\n",
       "      <td>0.00</td>\n",
       "      <td>0.00</td>\n",
       "      <td>0.01</td>\n",
       "      <td>0.00</td>\n",
       "      <td>2015.0</td>\n",
       "      <td>66.6291</td>\n",
       "      <td>7.05404</td>\n",
       "      <td>0.01</td>\n",
       "      <td>T</td>\n",
       "    </tr>\n",
       "    <tr>\n",
       "      <td>16276</td>\n",
       "      <td>Sangoku Koi Senki: Omoide Gaeshi - CS Edition</td>\n",
       "      <td>PSV</td>\n",
       "      <td>Adventure</td>\n",
       "      <td>0.00</td>\n",
       "      <td>0.00</td>\n",
       "      <td>0.01</td>\n",
       "      <td>0.00</td>\n",
       "      <td>2016.0</td>\n",
       "      <td>65.3313</td>\n",
       "      <td>7.133</td>\n",
       "      <td>0.01</td>\n",
       "      <td>E</td>\n",
       "    </tr>\n",
       "    <tr>\n",
       "      <td>16714</td>\n",
       "      <td>Winning Post 8 2016</td>\n",
       "      <td>PSV</td>\n",
       "      <td>Simulation</td>\n",
       "      <td>0.00</td>\n",
       "      <td>0.00</td>\n",
       "      <td>0.01</td>\n",
       "      <td>0.00</td>\n",
       "      <td>2016.0</td>\n",
       "      <td>68.6193</td>\n",
       "      <td>7.13459</td>\n",
       "      <td>0.01</td>\n",
       "      <td>E</td>\n",
       "    </tr>\n",
       "  </tbody>\n",
       "</table>\n",
       "<p>1689 rows × 12 columns</p>\n",
       "</div>"
      ],
      "text/plain": [
       "                                                name platform         genre  \\\n",
       "31                         Call of Duty: Black Ops 3      PS4       Shooter   \n",
       "42                                Grand Theft Auto V      PS4        Action   \n",
       "47         Pokemon Omega Ruby/Pokemon Alpha Sapphire      3DS  Role-Playing   \n",
       "77                                           FIFA 16      PS4        Sports   \n",
       "87                      Star Wars Battlefront (2015)      PS4       Shooter   \n",
       "...                                              ...      ...           ...   \n",
       "16264                                     Worms: WMD     XOne        Action   \n",
       "16267                  The Book of Unwritten Tales 2     WiiU     Adventure   \n",
       "16270                                   Hyakka Yakou      PSV        Action   \n",
       "16276  Sangoku Koi Senki: Omoide Gaeshi - CS Edition      PSV     Adventure   \n",
       "16714                            Winning Post 8 2016      PSV    Simulation   \n",
       "\n",
       "       na_sales  eu_sales  jp_sales  other_sales  year_of_release_noempty  \\\n",
       "31         6.03      5.86      0.36         2.38                   2015.0   \n",
       "42         3.96      6.31      0.38         1.97                   2014.0   \n",
       "47         4.35      3.49      3.10         0.74                   2014.0   \n",
       "77         1.12      6.12      0.06         1.28                   2015.0   \n",
       "87         2.99      3.49      0.22         1.28                   2015.0   \n",
       "...         ...       ...       ...          ...                      ...   \n",
       "16264      0.01      0.00      0.00         0.00                   2016.0   \n",
       "16267      0.00      0.01      0.00         0.00                   2016.0   \n",
       "16270      0.00      0.00      0.01         0.00                   2015.0   \n",
       "16276      0.00      0.00      0.01         0.00                   2016.0   \n",
       "16714      0.00      0.00      0.01         0.00                   2016.0   \n",
       "\n",
       "      critic_score_noempty user_score_noempty  total_sales rating_noempty  \n",
       "31                 70.1811            7.04188        14.63              M  \n",
       "42                      97                8.3        12.62              M  \n",
       "47                 72.6526            7.61952        11.68              T  \n",
       "77                      82                4.3         8.58              E  \n",
       "87                 70.1811            7.04188         7.98              M  \n",
       "...                    ...                ...          ...            ...  \n",
       "16264                   75                8.1         0.01           E10+  \n",
       "16267              65.3313              7.133         0.01              T  \n",
       "16270              66.6291            7.05404         0.01              T  \n",
       "16276              65.3313              7.133         0.01              E  \n",
       "16714              68.6193            7.13459         0.01              E  \n",
       "\n",
       "[1689 rows x 12 columns]"
      ]
     },
     "execution_count": 25,
     "metadata": {},
     "output_type": "execute_result"
    }
   ],
   "source": [
    "year_subset = new_df.query('2014 <= year_of_release_noempty')\n",
    "year_subset.sort_values('total_sales',ascending = False)"
   ]
  },
  {
   "cell_type": "markdown",
   "metadata": {},
   "source": [
    "Here we created new subset with 5 top selling platforms. we have set time period of games released after year 2014 as we don't need previous years because it does not have much volume of games which are still available in market.\n",
    "data going back to 2016. Let’s imagine that it’s December 2016 and we’re planning a campaign for 2017."
   ]
  },
  {
   "cell_type": "code",
   "execution_count": 26,
   "metadata": {},
   "outputs": [
    {
     "data": {
      "text/html": [
       "<div>\n",
       "<style scoped>\n",
       "    .dataframe tbody tr th:only-of-type {\n",
       "        vertical-align: middle;\n",
       "    }\n",
       "\n",
       "    .dataframe tbody tr th {\n",
       "        vertical-align: top;\n",
       "    }\n",
       "\n",
       "    .dataframe thead th {\n",
       "        text-align: right;\n",
       "    }\n",
       "</style>\n",
       "<table border=\"1\" class=\"dataframe\">\n",
       "  <thead>\n",
       "    <tr style=\"text-align: right;\">\n",
       "      <th></th>\n",
       "      <th>platform</th>\n",
       "      <th>total_sales</th>\n",
       "    </tr>\n",
       "  </thead>\n",
       "  <tbody>\n",
       "    <tr>\n",
       "      <td>3</td>\n",
       "      <td>PS4</td>\n",
       "      <td>288.15</td>\n",
       "    </tr>\n",
       "    <tr>\n",
       "      <td>9</td>\n",
       "      <td>XOne</td>\n",
       "      <td>140.36</td>\n",
       "    </tr>\n",
       "    <tr>\n",
       "      <td>0</td>\n",
       "      <td>3DS</td>\n",
       "      <td>86.68</td>\n",
       "    </tr>\n",
       "    <tr>\n",
       "      <td>2</td>\n",
       "      <td>PS3</td>\n",
       "      <td>68.18</td>\n",
       "    </tr>\n",
       "    <tr>\n",
       "      <td>8</td>\n",
       "      <td>X360</td>\n",
       "      <td>48.22</td>\n",
       "    </tr>\n",
       "  </tbody>\n",
       "</table>\n",
       "</div>"
      ],
      "text/plain": [
       "  platform  total_sales\n",
       "3      PS4       288.15\n",
       "9     XOne       140.36\n",
       "0      3DS        86.68\n",
       "2      PS3        68.18\n",
       "8     X360        48.22"
      ]
     },
     "execution_count": 26,
     "metadata": {},
     "output_type": "execute_result"
    }
   ],
   "source": [
    "platform_sales_pivot = (year_subset.pivot_table(index = ['platform'], values = 'total_sales',aggfunc = 'sum')).reset_index()\n",
    "platform_sales_pivot_sorted = platform_sales_pivot.sort_values('total_sales',ascending = False)\n",
    "platform_sales_pivot_sorted.head(5)"
   ]
  },
  {
   "cell_type": "code",
   "execution_count": 27,
   "metadata": {},
   "outputs": [
    {
     "data": {
      "text/html": [
       "<div>\n",
       "<style scoped>\n",
       "    .dataframe tbody tr th:only-of-type {\n",
       "        vertical-align: middle;\n",
       "    }\n",
       "\n",
       "    .dataframe tbody tr th {\n",
       "        vertical-align: top;\n",
       "    }\n",
       "\n",
       "    .dataframe thead th {\n",
       "        text-align: right;\n",
       "    }\n",
       "</style>\n",
       "<table border=\"1\" class=\"dataframe\">\n",
       "  <thead>\n",
       "    <tr style=\"text-align: right;\">\n",
       "      <th></th>\n",
       "      <th>name</th>\n",
       "      <th>platform</th>\n",
       "      <th>genre</th>\n",
       "      <th>na_sales</th>\n",
       "      <th>eu_sales</th>\n",
       "      <th>jp_sales</th>\n",
       "      <th>other_sales</th>\n",
       "      <th>year_of_release_noempty</th>\n",
       "      <th>critic_score_noempty</th>\n",
       "      <th>user_score_noempty</th>\n",
       "      <th>total_sales</th>\n",
       "      <th>rating_noempty</th>\n",
       "    </tr>\n",
       "  </thead>\n",
       "  <tbody>\n",
       "    <tr>\n",
       "      <td>31</td>\n",
       "      <td>Call of Duty: Black Ops 3</td>\n",
       "      <td>PS4</td>\n",
       "      <td>Shooter</td>\n",
       "      <td>6.03</td>\n",
       "      <td>5.86</td>\n",
       "      <td>0.36</td>\n",
       "      <td>2.38</td>\n",
       "      <td>2015.0</td>\n",
       "      <td>70.1811</td>\n",
       "      <td>7.04188</td>\n",
       "      <td>14.63</td>\n",
       "      <td>M</td>\n",
       "    </tr>\n",
       "    <tr>\n",
       "      <td>42</td>\n",
       "      <td>Grand Theft Auto V</td>\n",
       "      <td>PS4</td>\n",
       "      <td>Action</td>\n",
       "      <td>3.96</td>\n",
       "      <td>6.31</td>\n",
       "      <td>0.38</td>\n",
       "      <td>1.97</td>\n",
       "      <td>2014.0</td>\n",
       "      <td>97</td>\n",
       "      <td>8.3</td>\n",
       "      <td>12.62</td>\n",
       "      <td>M</td>\n",
       "    </tr>\n",
       "    <tr>\n",
       "      <td>47</td>\n",
       "      <td>Pokemon Omega Ruby/Pokemon Alpha Sapphire</td>\n",
       "      <td>3DS</td>\n",
       "      <td>Role-Playing</td>\n",
       "      <td>4.35</td>\n",
       "      <td>3.49</td>\n",
       "      <td>3.10</td>\n",
       "      <td>0.74</td>\n",
       "      <td>2014.0</td>\n",
       "      <td>72.6526</td>\n",
       "      <td>7.61952</td>\n",
       "      <td>11.68</td>\n",
       "      <td>T</td>\n",
       "    </tr>\n",
       "    <tr>\n",
       "      <td>77</td>\n",
       "      <td>FIFA 16</td>\n",
       "      <td>PS4</td>\n",
       "      <td>Sports</td>\n",
       "      <td>1.12</td>\n",
       "      <td>6.12</td>\n",
       "      <td>0.06</td>\n",
       "      <td>1.28</td>\n",
       "      <td>2015.0</td>\n",
       "      <td>82</td>\n",
       "      <td>4.3</td>\n",
       "      <td>8.58</td>\n",
       "      <td>E</td>\n",
       "    </tr>\n",
       "    <tr>\n",
       "      <td>87</td>\n",
       "      <td>Star Wars Battlefront (2015)</td>\n",
       "      <td>PS4</td>\n",
       "      <td>Shooter</td>\n",
       "      <td>2.99</td>\n",
       "      <td>3.49</td>\n",
       "      <td>0.22</td>\n",
       "      <td>1.28</td>\n",
       "      <td>2015.0</td>\n",
       "      <td>70.1811</td>\n",
       "      <td>7.04188</td>\n",
       "      <td>7.98</td>\n",
       "      <td>M</td>\n",
       "    </tr>\n",
       "  </tbody>\n",
       "</table>\n",
       "</div>"
      ],
      "text/plain": [
       "                                         name platform         genre  \\\n",
       "31                  Call of Duty: Black Ops 3      PS4       Shooter   \n",
       "42                         Grand Theft Auto V      PS4        Action   \n",
       "47  Pokemon Omega Ruby/Pokemon Alpha Sapphire      3DS  Role-Playing   \n",
       "77                                    FIFA 16      PS4        Sports   \n",
       "87               Star Wars Battlefront (2015)      PS4       Shooter   \n",
       "\n",
       "    na_sales  eu_sales  jp_sales  other_sales  year_of_release_noempty  \\\n",
       "31      6.03      5.86      0.36         2.38                   2015.0   \n",
       "42      3.96      6.31      0.38         1.97                   2014.0   \n",
       "47      4.35      3.49      3.10         0.74                   2014.0   \n",
       "77      1.12      6.12      0.06         1.28                   2015.0   \n",
       "87      2.99      3.49      0.22         1.28                   2015.0   \n",
       "\n",
       "   critic_score_noempty user_score_noempty  total_sales rating_noempty  \n",
       "31              70.1811            7.04188        14.63              M  \n",
       "42                   97                8.3        12.62              M  \n",
       "47              72.6526            7.61952        11.68              T  \n",
       "77                   82                4.3         8.58              E  \n",
       "87              70.1811            7.04188         7.98              M  "
      ]
     },
     "execution_count": 27,
     "metadata": {},
     "output_type": "execute_result"
    }
   ],
   "source": [
    "platform_subset = year_subset.query('platform in (\"PS4\",\"XOne\",\"3DS\",\"PS3\",\"X360\")')\n",
    "platform_subset.head()"
   ]
  },
  {
   "cell_type": "markdown",
   "metadata": {},
   "source": [
    "Our top 5 platforms are: \"PS4\",\"XOne\",\"3DS\",\"PS3\",\"X360\""
   ]
  },
  {
   "cell_type": "code",
   "execution_count": 28,
   "metadata": {},
   "outputs": [],
   "source": [
    "import sys\n",
    "import warnings\n",
    "if not sys.warnoptions:\n",
    "       warnings.simplefilter(\"ignore\")"
   ]
  },
  {
   "cell_type": "code",
   "execution_count": 29,
   "metadata": {},
   "outputs": [
    {
     "name": "stdout",
     "output_type": "stream",
     "text": [
      "<class 'pandas.core.frame.DataFrame'>\n",
      "Int64Index: 1146 entries, 31 to 16710\n",
      "Data columns (total 12 columns):\n",
      "name                       1146 non-null object\n",
      "platform                   1146 non-null object\n",
      "genre                      1146 non-null object\n",
      "na_sales                   1146 non-null float64\n",
      "eu_sales                   1146 non-null float64\n",
      "jp_sales                   1146 non-null float64\n",
      "other_sales                1146 non-null float64\n",
      "year_of_release_noempty    1146 non-null float64\n",
      "critic_score_noempty       1146 non-null object\n",
      "user_score_noempty         1146 non-null float64\n",
      "total_sales                1146 non-null float64\n",
      "rating_noempty             1146 non-null object\n",
      "dtypes: float64(7), object(5)\n",
      "memory usage: 116.4+ KB\n"
     ]
    }
   ],
   "source": [
    "platform_subset[\"user_score_noempty\"] = pd.to_numeric(platform_subset['user_score_noempty'], errors='coerce')\n",
    "platform_subset.info()"
   ]
  },
  {
   "cell_type": "markdown",
   "metadata": {},
   "source": [
    "## 3.4 Which platforms are leading in sales? Which ones are growing or shrinking? Select several potentially profitable platforms. "
   ]
  },
  {
   "cell_type": "code",
   "execution_count": 30,
   "metadata": {},
   "outputs": [
    {
     "data": {
      "text/plain": [
       "Text(0, 0.5, 'number of sales')"
      ]
     },
     "execution_count": 30,
     "metadata": {},
     "output_type": "execute_result"
    },
    {
     "data": {
      "image/png": "[encoded data removed]",
      "text/plain": [
       "<Figure size 864x504 with 1 Axes>"
      ]
     },
     "metadata": {
      "needs_background": "light"
     },
     "output_type": "display_data"
    }
   ],
   "source": [
    "platform_subset.pivot_table(index=\"year_of_release_noempty\",\n",
    "                      columns=\"platform\",\n",
    "                      values=\"total_sales\",\n",
    "                      aggfunc=np.sum,\n",
    "                    fill_value=0).plot(kind = 'bar',figsize=(12,7),legend=True)\n",
    "pl.xlabel('year')\n",
    "pl.ylabel('number of sales')"
   ]
  },
  {
   "cell_type": "markdown",
   "metadata": {},
   "source": [
    "## 3.5 Build a box plot for the global sales of all games, broken down by platform "
   ]
  },
  {
   "cell_type": "code",
   "execution_count": 31,
   "metadata": {},
   "outputs": [
    {
     "data": {
      "text/plain": [
       "Text(0.5, 1.0, 'Boxplot')"
      ]
     },
     "execution_count": 31,
     "metadata": {},
     "output_type": "execute_result"
    },
    {
     "data": {
      "image/png": "[encoded data removed]",
      "text/plain": [
       "<Figure size 432x288 with 1 Axes>"
      ]
     },
     "metadata": {
      "needs_background": "light"
     },
     "output_type": "display_data"
    }
   ],
   "source": [
    "boxprops = dict(linestyle='-', linewidth=4, color='k')\n",
    "medianprops = dict(linestyle='-', linewidth=4, color='k')\n",
    "\n",
    "ax = platform_subset.boxplot(column=['total_sales'],\n",
    "                by='platform',\n",
    "                showfliers=False, showmeans=True,\n",
    "                boxprops=boxprops,\n",
    "                medianprops=medianprops)\n",
    "pl.suptitle(\"\")\n",
    "ax.set_xlabel(\"platform\")\n",
    "ax.set_title(\"Boxplot\")"
   ]
  },
  {
   "cell_type": "markdown",
   "metadata": {},
   "source": [
    "by looking at the boxplot we can say that the leading platforms in sales are PS4 and Xone basically Xbox and PlayStation. "
   ]
  },
  {
   "cell_type": "code",
   "execution_count": 32,
   "metadata": {},
   "outputs": [
    {
     "data": {
      "text/plain": [
       "Text(0.5, 1.0, 'Boxplot')"
      ]
     },
     "execution_count": 32,
     "metadata": {},
     "output_type": "execute_result"
    },
    {
     "data": {
      "image/png": "[encoded data removed]",
      "text/plain": [
       "<Figure size 432x288 with 1 Axes>"
      ]
     },
     "metadata": {
      "needs_background": "light"
     },
     "output_type": "display_data"
    }
   ],
   "source": [
    "boxprops = dict(linestyle='-', linewidth=4, color='k')\n",
    "medianprops = dict(linestyle='-', linewidth=4, color='k')\n",
    "\n",
    "ax = platform_subset.boxplot(column=['total_sales'],\n",
    "                by='platform',\n",
    "                showfliers=False, showmeans=True,\n",
    "                boxprops=boxprops,\n",
    "                medianprops=medianprops)\n",
    "Q1 = platform_subset['total_sales'].quantile(0.25)\n",
    "Q3 = platform_subset['total_sales'].quantile(0.75)\n",
    "IQR = Q3 - Q1\n",
    "pl.xticks(rotation=90)\n",
    "pl.hlines(y= [Q1-1.5*IQR], xmin=0.9, xmax=1.1, color='red')\n",
    "# get rid of the automatic title\n",
    "pl.suptitle(\"\")\n",
    "ax.set_xlabel(\"platform\")\n",
    "ax.set_title(\"Boxplot\")"
   ]
  },
  {
   "cell_type": "markdown",
   "metadata": {},
   "source": [
    "PC games are not leading in this chart the reason may be because of quality and user experiance of playing game."
   ]
  },
  {
   "cell_type": "markdown",
   "metadata": {},
   "source": [
    "## 3.6 Take a look at how user and professional reviews affect sales for one popular platform (you choose). Build a scatter plot and calculate the correlation between reviews and sales.  "
   ]
  },
  {
   "cell_type": "code",
   "execution_count": 33,
   "metadata": {},
   "outputs": [
    {
     "data": {
      "text/html": [
       "<div>\n",
       "<style scoped>\n",
       "    .dataframe tbody tr th:only-of-type {\n",
       "        vertical-align: middle;\n",
       "    }\n",
       "\n",
       "    .dataframe tbody tr th {\n",
       "        vertical-align: top;\n",
       "    }\n",
       "\n",
       "    .dataframe thead th {\n",
       "        text-align: right;\n",
       "    }\n",
       "</style>\n",
       "<table border=\"1\" class=\"dataframe\">\n",
       "  <thead>\n",
       "    <tr style=\"text-align: right;\">\n",
       "      <th></th>\n",
       "      <th>name</th>\n",
       "      <th>platform</th>\n",
       "      <th>genre</th>\n",
       "      <th>na_sales</th>\n",
       "      <th>eu_sales</th>\n",
       "      <th>jp_sales</th>\n",
       "      <th>other_sales</th>\n",
       "      <th>year_of_release_noempty</th>\n",
       "      <th>critic_score_noempty</th>\n",
       "      <th>user_score_noempty</th>\n",
       "      <th>total_sales</th>\n",
       "      <th>rating_noempty</th>\n",
       "    </tr>\n",
       "  </thead>\n",
       "  <tbody>\n",
       "    <tr>\n",
       "      <td>31</td>\n",
       "      <td>Call of Duty: Black Ops 3</td>\n",
       "      <td>PS4</td>\n",
       "      <td>Shooter</td>\n",
       "      <td>6.03</td>\n",
       "      <td>5.86</td>\n",
       "      <td>0.36</td>\n",
       "      <td>2.38</td>\n",
       "      <td>2015.0</td>\n",
       "      <td>70.1811</td>\n",
       "      <td>7.041883</td>\n",
       "      <td>14.63</td>\n",
       "      <td>M</td>\n",
       "    </tr>\n",
       "    <tr>\n",
       "      <td>42</td>\n",
       "      <td>Grand Theft Auto V</td>\n",
       "      <td>PS4</td>\n",
       "      <td>Action</td>\n",
       "      <td>3.96</td>\n",
       "      <td>6.31</td>\n",
       "      <td>0.38</td>\n",
       "      <td>1.97</td>\n",
       "      <td>2014.0</td>\n",
       "      <td>97</td>\n",
       "      <td>8.300000</td>\n",
       "      <td>12.62</td>\n",
       "      <td>M</td>\n",
       "    </tr>\n",
       "    <tr>\n",
       "      <td>77</td>\n",
       "      <td>FIFA 16</td>\n",
       "      <td>PS4</td>\n",
       "      <td>Sports</td>\n",
       "      <td>1.12</td>\n",
       "      <td>6.12</td>\n",
       "      <td>0.06</td>\n",
       "      <td>1.28</td>\n",
       "      <td>2015.0</td>\n",
       "      <td>82</td>\n",
       "      <td>4.300000</td>\n",
       "      <td>8.58</td>\n",
       "      <td>E</td>\n",
       "    </tr>\n",
       "    <tr>\n",
       "      <td>87</td>\n",
       "      <td>Star Wars Battlefront (2015)</td>\n",
       "      <td>PS4</td>\n",
       "      <td>Shooter</td>\n",
       "      <td>2.99</td>\n",
       "      <td>3.49</td>\n",
       "      <td>0.22</td>\n",
       "      <td>1.28</td>\n",
       "      <td>2015.0</td>\n",
       "      <td>70.1811</td>\n",
       "      <td>7.041883</td>\n",
       "      <td>7.98</td>\n",
       "      <td>M</td>\n",
       "    </tr>\n",
       "    <tr>\n",
       "      <td>92</td>\n",
       "      <td>Call of Duty: Advanced Warfare</td>\n",
       "      <td>PS4</td>\n",
       "      <td>Shooter</td>\n",
       "      <td>2.81</td>\n",
       "      <td>3.48</td>\n",
       "      <td>0.14</td>\n",
       "      <td>1.23</td>\n",
       "      <td>2014.0</td>\n",
       "      <td>83</td>\n",
       "      <td>5.700000</td>\n",
       "      <td>7.66</td>\n",
       "      <td>M</td>\n",
       "    </tr>\n",
       "    <tr>\n",
       "      <td>...</td>\n",
       "      <td>...</td>\n",
       "      <td>...</td>\n",
       "      <td>...</td>\n",
       "      <td>...</td>\n",
       "      <td>...</td>\n",
       "      <td>...</td>\n",
       "      <td>...</td>\n",
       "      <td>...</td>\n",
       "      <td>...</td>\n",
       "      <td>...</td>\n",
       "      <td>...</td>\n",
       "      <td>...</td>\n",
       "    </tr>\n",
       "    <tr>\n",
       "      <td>15943</td>\n",
       "      <td>Professional Farmer 2016</td>\n",
       "      <td>PS4</td>\n",
       "      <td>Action</td>\n",
       "      <td>0.00</td>\n",
       "      <td>0.01</td>\n",
       "      <td>0.00</td>\n",
       "      <td>0.00</td>\n",
       "      <td>2015.0</td>\n",
       "      <td>66.6291</td>\n",
       "      <td>7.054044</td>\n",
       "      <td>0.01</td>\n",
       "      <td>T</td>\n",
       "    </tr>\n",
       "    <tr>\n",
       "      <td>15864</td>\n",
       "      <td>Rocksmith 2014 Edition Remastered</td>\n",
       "      <td>PS4</td>\n",
       "      <td>Misc</td>\n",
       "      <td>0.01</td>\n",
       "      <td>0.00</td>\n",
       "      <td>0.00</td>\n",
       "      <td>0.00</td>\n",
       "      <td>2016.0</td>\n",
       "      <td>66.6195</td>\n",
       "      <td>7.800000</td>\n",
       "      <td>0.01</td>\n",
       "      <td>T</td>\n",
       "    </tr>\n",
       "    <tr>\n",
       "      <td>15839</td>\n",
       "      <td>Mark McMorris Infinite Air</td>\n",
       "      <td>PS4</td>\n",
       "      <td>Sports</td>\n",
       "      <td>0.01</td>\n",
       "      <td>0.00</td>\n",
       "      <td>0.00</td>\n",
       "      <td>0.00</td>\n",
       "      <td>2016.0</td>\n",
       "      <td>49</td>\n",
       "      <td>6.000000</td>\n",
       "      <td>0.01</td>\n",
       "      <td>T</td>\n",
       "    </tr>\n",
       "    <tr>\n",
       "      <td>15790</td>\n",
       "      <td>This War of Mine</td>\n",
       "      <td>PS4</td>\n",
       "      <td>Action</td>\n",
       "      <td>0.00</td>\n",
       "      <td>0.01</td>\n",
       "      <td>0.00</td>\n",
       "      <td>0.00</td>\n",
       "      <td>2016.0</td>\n",
       "      <td>66.6291</td>\n",
       "      <td>7.054044</td>\n",
       "      <td>0.01</td>\n",
       "      <td>T</td>\n",
       "    </tr>\n",
       "    <tr>\n",
       "      <td>16585</td>\n",
       "      <td>Farming 2017 - The Simulation</td>\n",
       "      <td>PS4</td>\n",
       "      <td>Simulation</td>\n",
       "      <td>0.00</td>\n",
       "      <td>0.01</td>\n",
       "      <td>0.00</td>\n",
       "      <td>0.00</td>\n",
       "      <td>2016.0</td>\n",
       "      <td>68.6193</td>\n",
       "      <td>7.134593</td>\n",
       "      <td>0.01</td>\n",
       "      <td>E</td>\n",
       "    </tr>\n",
       "  </tbody>\n",
       "</table>\n",
       "<p>376 rows × 12 columns</p>\n",
       "</div>"
      ],
      "text/plain": [
       "                                    name platform       genre  na_sales  \\\n",
       "31             Call of Duty: Black Ops 3      PS4     Shooter      6.03   \n",
       "42                    Grand Theft Auto V      PS4      Action      3.96   \n",
       "77                               FIFA 16      PS4      Sports      1.12   \n",
       "87          Star Wars Battlefront (2015)      PS4     Shooter      2.99   \n",
       "92        Call of Duty: Advanced Warfare      PS4     Shooter      2.81   \n",
       "...                                  ...      ...         ...       ...   \n",
       "15943           Professional Farmer 2016      PS4      Action      0.00   \n",
       "15864  Rocksmith 2014 Edition Remastered      PS4        Misc      0.01   \n",
       "15839         Mark McMorris Infinite Air      PS4      Sports      0.01   \n",
       "15790                   This War of Mine      PS4      Action      0.00   \n",
       "16585      Farming 2017 - The Simulation      PS4  Simulation      0.00   \n",
       "\n",
       "       eu_sales  jp_sales  other_sales  year_of_release_noempty  \\\n",
       "31         5.86      0.36         2.38                   2015.0   \n",
       "42         6.31      0.38         1.97                   2014.0   \n",
       "77         6.12      0.06         1.28                   2015.0   \n",
       "87         3.49      0.22         1.28                   2015.0   \n",
       "92         3.48      0.14         1.23                   2014.0   \n",
       "...         ...       ...          ...                      ...   \n",
       "15943      0.01      0.00         0.00                   2015.0   \n",
       "15864      0.00      0.00         0.00                   2016.0   \n",
       "15839      0.00      0.00         0.00                   2016.0   \n",
       "15790      0.01      0.00         0.00                   2016.0   \n",
       "16585      0.01      0.00         0.00                   2016.0   \n",
       "\n",
       "      critic_score_noempty  user_score_noempty  total_sales rating_noempty  \n",
       "31                 70.1811            7.041883        14.63              M  \n",
       "42                      97            8.300000        12.62              M  \n",
       "77                      82            4.300000         8.58              E  \n",
       "87                 70.1811            7.041883         7.98              M  \n",
       "92                      83            5.700000         7.66              M  \n",
       "...                    ...                 ...          ...            ...  \n",
       "15943              66.6291            7.054044         0.01              T  \n",
       "15864              66.6195            7.800000         0.01              T  \n",
       "15839                   49            6.000000         0.01              T  \n",
       "15790              66.6291            7.054044         0.01              T  \n",
       "16585              68.6193            7.134593         0.01              E  \n",
       "\n",
       "[376 rows x 12 columns]"
      ]
     },
     "execution_count": 33,
     "metadata": {},
     "output_type": "execute_result"
    }
   ],
   "source": [
    "plat_ps4 = platform_subset.query('platform in (\"PS4\")')\n",
    "plat_ps4[\"user_score_noempty\"] = pd.to_numeric(plat_ps4['user_score_noempty'], errors='coerce')\n",
    "plat_ps4.sort_values('total_sales',ascending = False)"
   ]
  },
  {
   "cell_type": "markdown",
   "metadata": {},
   "source": [
    "We chose PS4 platform for this task as we have seen in the last task that this platform is highest selling platform for given time period."
   ]
  },
  {
   "cell_type": "code",
   "execution_count": 34,
   "metadata": {},
   "outputs": [
    {
     "data": {
      "text/html": [
       "<div>\n",
       "<style scoped>\n",
       "    .dataframe tbody tr th:only-of-type {\n",
       "        vertical-align: middle;\n",
       "    }\n",
       "\n",
       "    .dataframe tbody tr th {\n",
       "        vertical-align: top;\n",
       "    }\n",
       "\n",
       "    .dataframe thead th {\n",
       "        text-align: right;\n",
       "    }\n",
       "</style>\n",
       "<table border=\"1\" class=\"dataframe\">\n",
       "  <thead>\n",
       "    <tr style=\"text-align: right;\">\n",
       "      <th></th>\n",
       "      <th>name</th>\n",
       "      <th>user_score_noempty</th>\n",
       "      <th>total_sales</th>\n",
       "    </tr>\n",
       "  </thead>\n",
       "  <tbody>\n",
       "    <tr>\n",
       "      <td>324</td>\n",
       "      <td>The Witcher 3: Wild Hunt</td>\n",
       "      <td>9.2</td>\n",
       "      <td>3.97</td>\n",
       "    </tr>\n",
       "    <tr>\n",
       "      <td>50</td>\n",
       "      <td>Dark Souls III</td>\n",
       "      <td>8.8</td>\n",
       "      <td>1.66</td>\n",
       "    </tr>\n",
       "    <tr>\n",
       "      <td>314</td>\n",
       "      <td>The King of Fighters XIV</td>\n",
       "      <td>8.7</td>\n",
       "      <td>0.15</td>\n",
       "    </tr>\n",
       "    <tr>\n",
       "      <td>111</td>\n",
       "      <td>Farming Simulator 17</td>\n",
       "      <td>8.7</td>\n",
       "      <td>0.42</td>\n",
       "    </tr>\n",
       "    <tr>\n",
       "      <td>254</td>\n",
       "      <td>Rocket League</td>\n",
       "      <td>8.7</td>\n",
       "      <td>0.36</td>\n",
       "    </tr>\n",
       "  </tbody>\n",
       "</table>\n",
       "</div>"
      ],
      "text/plain": [
       "                         name  user_score_noempty  total_sales\n",
       "324  The Witcher 3: Wild Hunt                 9.2         3.97\n",
       "50             Dark Souls III                 8.8         1.66\n",
       "314  The King of Fighters XIV                 8.7         0.15\n",
       "111      Farming Simulator 17                 8.7         0.42\n",
       "254             Rocket League                 8.7         0.36"
      ]
     },
     "execution_count": 34,
     "metadata": {},
     "output_type": "execute_result"
    }
   ],
   "source": [
    "ps4_pivot = (plat_ps4.pivot_table(index = ['name','user_score_noempty'], values = 'total_sales',aggfunc = 'sum')).reset_index()\n",
    "ps4_pivot = ps4_pivot.sort_values('user_score_noempty',ascending = False)\n",
    "ps4_pivot.head(5)"
   ]
  },
  {
   "cell_type": "code",
   "execution_count": 35,
   "metadata": {},
   "outputs": [
    {
     "data": {
      "text/html": [
       "<div>\n",
       "<style scoped>\n",
       "    .dataframe tbody tr th:only-of-type {\n",
       "        vertical-align: middle;\n",
       "    }\n",
       "\n",
       "    .dataframe tbody tr th {\n",
       "        vertical-align: top;\n",
       "    }\n",
       "\n",
       "    .dataframe thead th {\n",
       "        text-align: right;\n",
       "    }\n",
       "</style>\n",
       "<table border=\"1\" class=\"dataframe\">\n",
       "  <thead>\n",
       "    <tr style=\"text-align: right;\">\n",
       "      <th></th>\n",
       "      <th>name</th>\n",
       "      <th>user_score_noempty</th>\n",
       "      <th>total_sales</th>\n",
       "    </tr>\n",
       "  </thead>\n",
       "  <tbody>\n",
       "    <tr>\n",
       "      <td>43</td>\n",
       "      <td>Call of Duty: Black Ops 3</td>\n",
       "      <td>7.041883</td>\n",
       "      <td>14.63</td>\n",
       "    </tr>\n",
       "    <tr>\n",
       "      <td>130</td>\n",
       "      <td>Grand Theft Auto V</td>\n",
       "      <td>8.300000</td>\n",
       "      <td>12.62</td>\n",
       "    </tr>\n",
       "    <tr>\n",
       "      <td>104</td>\n",
       "      <td>FIFA 16</td>\n",
       "      <td>4.300000</td>\n",
       "      <td>8.58</td>\n",
       "    </tr>\n",
       "    <tr>\n",
       "      <td>287</td>\n",
       "      <td>Star Wars Battlefront (2015)</td>\n",
       "      <td>7.041883</td>\n",
       "      <td>7.98</td>\n",
       "    </tr>\n",
       "    <tr>\n",
       "      <td>42</td>\n",
       "      <td>Call of Duty: Advanced Warfare</td>\n",
       "      <td>5.700000</td>\n",
       "      <td>7.66</td>\n",
       "    </tr>\n",
       "  </tbody>\n",
       "</table>\n",
       "</div>"
      ],
      "text/plain": [
       "                               name  user_score_noempty  total_sales\n",
       "43        Call of Duty: Black Ops 3            7.041883        14.63\n",
       "130              Grand Theft Auto V            8.300000        12.62\n",
       "104                         FIFA 16            4.300000         8.58\n",
       "287    Star Wars Battlefront (2015)            7.041883         7.98\n",
       "42   Call of Duty: Advanced Warfare            5.700000         7.66"
      ]
     },
     "execution_count": 35,
     "metadata": {},
     "output_type": "execute_result"
    }
   ],
   "source": [
    "ps4_pivot = ps4_pivot.sort_values('total_sales',ascending = False)\n",
    "ps4_pivot.head(5)"
   ]
  },
  {
   "cell_type": "markdown",
   "metadata": {},
   "source": [
    "As we seen here the top 5 games which are having highest sales in PS4 are: Call of Duty: Black Ops 3\t, Grand Theft Auto V,\tFIFA 16\t, Star Wars Battlefront (2015), Call of Duty: Advanced Warfare\ttop 5 games which are having highest user scores are in PS4: The Witcher 3: Wild Hunt,Dark Souls III,The King of Fighters XIV,Farming Simulator,Rocket League\t\n",
    "so, User ratings does not affect sales because user ratings are divided by the choice of genre, visual quality and overall user experiance which differes from platform to platform."
   ]
  },
  {
   "cell_type": "code",
   "execution_count": 36,
   "metadata": {},
   "outputs": [
    {
     "data": {
      "text/plain": [
       "Text(0.5, 1.0, 'Scatterplot for platform PS4')"
      ]
     },
     "execution_count": 36,
     "metadata": {},
     "output_type": "execute_result"
    },
    {
     "data": {
      "image/png": "[encoded data removed]",
      "text/plain": [
       "<Figure size 576x432 with 1 Axes>"
      ]
     },
     "metadata": {
      "needs_background": "light"
     },
     "output_type": "display_data"
    }
   ],
   "source": [
    "plat_ps4.plot(x='user_score_noempty', y = 'total_sales', kind = 'scatter', figsize=(8, 6), grid=True, c= 'lightgreen')\n",
    "pl.title('Scatterplot for platform PS4')"
   ]
  },
  {
   "cell_type": "code",
   "execution_count": 37,
   "metadata": {},
   "outputs": [
    {
     "name": "stdout",
     "output_type": "stream",
     "text": [
      "-0.05302175180537961\n"
     ]
    }
   ],
   "source": [
    "print(plat_ps4['user_score_noempty'].corr(plat_ps4['total_sales']))"
   ]
  },
  {
   "cell_type": "markdown",
   "metadata": {},
   "source": [
    "A correlation of -0.053 implies a connection, though it could be weaker. Increase user_score_noempty and total_sales will often increase, but not always. And vice versa: increase user_score_noempty, and total_sales will often change. Thus, we don't know anything about cause and effect; we only know that the two factors show correlation.\n",
    "Thus, you can't prove cause and effect with the presence of correlation, but you won’t disprove it either."
   ]
  },
  {
   "cell_type": "code",
   "execution_count": 38,
   "metadata": {},
   "outputs": [
    {
     "data": {
      "text/plain": [
       "31            Call of Duty: Black Ops 3\n",
       "42                   Grand Theft Auto V\n",
       "77                              FIFA 16\n",
       "87         Star Wars Battlefront (2015)\n",
       "92       Call of Duty: Advanced Warfare\n",
       "                      ...              \n",
       "16500                       Root Letter\n",
       "16503                 Shin Hayarigami 2\n",
       "16526                        Dungeons 2\n",
       "16530           Carmageddon: Max Damage\n",
       "16585     Farming 2017 - The Simulation\n",
       "Name: name, Length: 376, dtype: object"
      ]
     },
     "execution_count": 38,
     "metadata": {},
     "output_type": "execute_result"
    }
   ],
   "source": [
    "popular_games_ps4 = plat_ps4[\"name\"]\n",
    "popular_games_ps4"
   ]
  },
  {
   "cell_type": "markdown",
   "metadata": {},
   "source": [
    "## 3.7 Keeping your conclusions in mind, compare the sales of the same games on other platforms. "
   ]
  },
  {
   "cell_type": "code",
   "execution_count": 39,
   "metadata": {},
   "outputs": [
    {
     "data": {
      "text/html": [
       "<div>\n",
       "<style scoped>\n",
       "    .dataframe tbody tr th:only-of-type {\n",
       "        vertical-align: middle;\n",
       "    }\n",
       "\n",
       "    .dataframe tbody tr th {\n",
       "        vertical-align: top;\n",
       "    }\n",
       "\n",
       "    .dataframe thead th {\n",
       "        text-align: right;\n",
       "    }\n",
       "</style>\n",
       "<table border=\"1\" class=\"dataframe\">\n",
       "  <thead>\n",
       "    <tr style=\"text-align: right;\">\n",
       "      <th></th>\n",
       "      <th>name</th>\n",
       "      <th>platform</th>\n",
       "      <th>genre</th>\n",
       "      <th>na_sales</th>\n",
       "      <th>eu_sales</th>\n",
       "      <th>jp_sales</th>\n",
       "      <th>other_sales</th>\n",
       "      <th>year_of_release_noempty</th>\n",
       "      <th>critic_score_noempty</th>\n",
       "      <th>user_score_noempty</th>\n",
       "      <th>total_sales</th>\n",
       "      <th>rating_noempty</th>\n",
       "    </tr>\n",
       "  </thead>\n",
       "  <tbody>\n",
       "    <tr>\n",
       "      <td>99</td>\n",
       "      <td>Call of Duty: Black Ops 3</td>\n",
       "      <td>XOne</td>\n",
       "      <td>Shooter</td>\n",
       "      <td>4.59</td>\n",
       "      <td>2.11</td>\n",
       "      <td>0.01</td>\n",
       "      <td>0.68</td>\n",
       "      <td>2015.0</td>\n",
       "      <td>70.1811</td>\n",
       "      <td>7.041883</td>\n",
       "      <td>7.39</td>\n",
       "      <td>M</td>\n",
       "    </tr>\n",
       "    <tr>\n",
       "      <td>165</td>\n",
       "      <td>Grand Theft Auto V</td>\n",
       "      <td>XOne</td>\n",
       "      <td>Action</td>\n",
       "      <td>2.81</td>\n",
       "      <td>2.19</td>\n",
       "      <td>0.00</td>\n",
       "      <td>0.47</td>\n",
       "      <td>2014.0</td>\n",
       "      <td>97</td>\n",
       "      <td>7.900000</td>\n",
       "      <td>5.47</td>\n",
       "      <td>M</td>\n",
       "    </tr>\n",
       "    <tr>\n",
       "      <td>180</td>\n",
       "      <td>Minecraft</td>\n",
       "      <td>PS3</td>\n",
       "      <td>Misc</td>\n",
       "      <td>2.03</td>\n",
       "      <td>2.37</td>\n",
       "      <td>0.00</td>\n",
       "      <td>0.87</td>\n",
       "      <td>2014.0</td>\n",
       "      <td>66.6195</td>\n",
       "      <td>6.819362</td>\n",
       "      <td>5.27</td>\n",
       "      <td>E</td>\n",
       "    </tr>\n",
       "    <tr>\n",
       "      <td>179</td>\n",
       "      <td>Call of Duty: Advanced Warfare</td>\n",
       "      <td>XOne</td>\n",
       "      <td>Shooter</td>\n",
       "      <td>3.22</td>\n",
       "      <td>1.55</td>\n",
       "      <td>0.01</td>\n",
       "      <td>0.48</td>\n",
       "      <td>2014.0</td>\n",
       "      <td>81</td>\n",
       "      <td>5.400000</td>\n",
       "      <td>5.26</td>\n",
       "      <td>M</td>\n",
       "    </tr>\n",
       "    <tr>\n",
       "      <td>255</td>\n",
       "      <td>Call of Duty: Advanced Warfare</td>\n",
       "      <td>PS3</td>\n",
       "      <td>Shooter</td>\n",
       "      <td>1.56</td>\n",
       "      <td>1.93</td>\n",
       "      <td>0.19</td>\n",
       "      <td>0.68</td>\n",
       "      <td>2014.0</td>\n",
       "      <td>70.1811</td>\n",
       "      <td>4.800000</td>\n",
       "      <td>4.36</td>\n",
       "      <td>M</td>\n",
       "    </tr>\n",
       "    <tr>\n",
       "      <td>...</td>\n",
       "      <td>...</td>\n",
       "      <td>...</td>\n",
       "      <td>...</td>\n",
       "      <td>...</td>\n",
       "      <td>...</td>\n",
       "      <td>...</td>\n",
       "      <td>...</td>\n",
       "      <td>...</td>\n",
       "      <td>...</td>\n",
       "      <td>...</td>\n",
       "      <td>...</td>\n",
       "      <td>...</td>\n",
       "    </tr>\n",
       "    <tr>\n",
       "      <td>16015</td>\n",
       "      <td>Mark McMorris Infinite Air</td>\n",
       "      <td>XOne</td>\n",
       "      <td>Sports</td>\n",
       "      <td>0.01</td>\n",
       "      <td>0.00</td>\n",
       "      <td>0.00</td>\n",
       "      <td>0.00</td>\n",
       "      <td>2016.0</td>\n",
       "      <td>71.9682</td>\n",
       "      <td>7.100000</td>\n",
       "      <td>0.01</td>\n",
       "      <td>T</td>\n",
       "    </tr>\n",
       "    <tr>\n",
       "      <td>16013</td>\n",
       "      <td>Dead Rising 2</td>\n",
       "      <td>XOne</td>\n",
       "      <td>Action</td>\n",
       "      <td>0.01</td>\n",
       "      <td>0.00</td>\n",
       "      <td>0.00</td>\n",
       "      <td>0.00</td>\n",
       "      <td>2016.0</td>\n",
       "      <td>66.6291</td>\n",
       "      <td>7.054044</td>\n",
       "      <td>0.01</td>\n",
       "      <td>M</td>\n",
       "    </tr>\n",
       "    <tr>\n",
       "      <td>15891</td>\n",
       "      <td>Rugby League Live 3</td>\n",
       "      <td>PS3</td>\n",
       "      <td>Action</td>\n",
       "      <td>0.00</td>\n",
       "      <td>0.01</td>\n",
       "      <td>0.00</td>\n",
       "      <td>0.00</td>\n",
       "      <td>2015.0</td>\n",
       "      <td>66.6291</td>\n",
       "      <td>7.054044</td>\n",
       "      <td>0.01</td>\n",
       "      <td>T</td>\n",
       "    </tr>\n",
       "    <tr>\n",
       "      <td>15486</td>\n",
       "      <td>Arslan: The Warriors of Legend</td>\n",
       "      <td>XOne</td>\n",
       "      <td>Action</td>\n",
       "      <td>0.01</td>\n",
       "      <td>0.00</td>\n",
       "      <td>0.00</td>\n",
       "      <td>0.00</td>\n",
       "      <td>2016.0</td>\n",
       "      <td>66.6291</td>\n",
       "      <td>5.800000</td>\n",
       "      <td>0.01</td>\n",
       "      <td>T</td>\n",
       "    </tr>\n",
       "    <tr>\n",
       "      <td>16710</td>\n",
       "      <td>Samurai Warriors: Sanada Maru</td>\n",
       "      <td>PS3</td>\n",
       "      <td>Action</td>\n",
       "      <td>0.00</td>\n",
       "      <td>0.00</td>\n",
       "      <td>0.01</td>\n",
       "      <td>0.00</td>\n",
       "      <td>2016.0</td>\n",
       "      <td>66.6291</td>\n",
       "      <td>7.054044</td>\n",
       "      <td>0.01</td>\n",
       "      <td>T</td>\n",
       "    </tr>\n",
       "  </tbody>\n",
       "</table>\n",
       "<p>432 rows × 12 columns</p>\n",
       "</div>"
      ],
      "text/plain": [
       "                                 name platform    genre  na_sales  eu_sales  \\\n",
       "99          Call of Duty: Black Ops 3     XOne  Shooter      4.59      2.11   \n",
       "165                Grand Theft Auto V     XOne   Action      2.81      2.19   \n",
       "180                         Minecraft      PS3     Misc      2.03      2.37   \n",
       "179    Call of Duty: Advanced Warfare     XOne  Shooter      3.22      1.55   \n",
       "255    Call of Duty: Advanced Warfare      PS3  Shooter      1.56      1.93   \n",
       "...                               ...      ...      ...       ...       ...   \n",
       "16015      Mark McMorris Infinite Air     XOne   Sports      0.01      0.00   \n",
       "16013                   Dead Rising 2     XOne   Action      0.01      0.00   \n",
       "15891             Rugby League Live 3      PS3   Action      0.00      0.01   \n",
       "15486  Arslan: The Warriors of Legend     XOne   Action      0.01      0.00   \n",
       "16710   Samurai Warriors: Sanada Maru      PS3   Action      0.00      0.00   \n",
       "\n",
       "       jp_sales  other_sales  year_of_release_noempty critic_score_noempty  \\\n",
       "99         0.01         0.68                   2015.0              70.1811   \n",
       "165        0.00         0.47                   2014.0                   97   \n",
       "180        0.00         0.87                   2014.0              66.6195   \n",
       "179        0.01         0.48                   2014.0                   81   \n",
       "255        0.19         0.68                   2014.0              70.1811   \n",
       "...         ...          ...                      ...                  ...   \n",
       "16015      0.00         0.00                   2016.0              71.9682   \n",
       "16013      0.00         0.00                   2016.0              66.6291   \n",
       "15891      0.00         0.00                   2015.0              66.6291   \n",
       "15486      0.00         0.00                   2016.0              66.6291   \n",
       "16710      0.01         0.00                   2016.0              66.6291   \n",
       "\n",
       "       user_score_noempty  total_sales rating_noempty  \n",
       "99               7.041883         7.39              M  \n",
       "165              7.900000         5.47              M  \n",
       "180              6.819362         5.27              E  \n",
       "179              5.400000         5.26              M  \n",
       "255              4.800000         4.36              M  \n",
       "...                   ...          ...            ...  \n",
       "16015            7.100000         0.01              T  \n",
       "16013            7.054044         0.01              M  \n",
       "15891            7.054044         0.01              T  \n",
       "15486            5.800000         0.01              T  \n",
       "16710            7.054044         0.01              T  \n",
       "\n",
       "[432 rows x 12 columns]"
      ]
     },
     "execution_count": 39,
     "metadata": {},
     "output_type": "execute_result"
    }
   ],
   "source": [
    "popular_games_other_plat = platform_subset.query('name in @popular_games_ps4 and platform != \"PS4\"')\n",
    "popular_games_other_plat.sort_values('total_sales',ascending = False)"
   ]
  },
  {
   "cell_type": "code",
   "execution_count": 40,
   "metadata": {},
   "outputs": [
    {
     "data": {
      "text/html": [
       "<div>\n",
       "<style scoped>\n",
       "    .dataframe tbody tr th:only-of-type {\n",
       "        vertical-align: middle;\n",
       "    }\n",
       "\n",
       "    .dataframe tbody tr th {\n",
       "        vertical-align: top;\n",
       "    }\n",
       "\n",
       "    .dataframe thead th {\n",
       "        text-align: right;\n",
       "    }\n",
       "</style>\n",
       "<table border=\"1\" class=\"dataframe\">\n",
       "  <thead>\n",
       "    <tr style=\"text-align: right;\">\n",
       "      <th></th>\n",
       "      <th>name</th>\n",
       "      <th>user_score_noempty</th>\n",
       "      <th>platform</th>\n",
       "      <th>total_sales</th>\n",
       "    </tr>\n",
       "  </thead>\n",
       "  <tbody>\n",
       "    <tr>\n",
       "      <td>49</td>\n",
       "      <td>Call of Duty: Black Ops 3</td>\n",
       "      <td>7.041883</td>\n",
       "      <td>XOne</td>\n",
       "      <td>7.39</td>\n",
       "    </tr>\n",
       "    <tr>\n",
       "      <td>133</td>\n",
       "      <td>Grand Theft Auto V</td>\n",
       "      <td>7.900000</td>\n",
       "      <td>XOne</td>\n",
       "      <td>5.47</td>\n",
       "    </tr>\n",
       "    <tr>\n",
       "      <td>212</td>\n",
       "      <td>Minecraft</td>\n",
       "      <td>6.819362</td>\n",
       "      <td>PS3</td>\n",
       "      <td>5.27</td>\n",
       "    </tr>\n",
       "    <tr>\n",
       "      <td>46</td>\n",
       "      <td>Call of Duty: Advanced Warfare</td>\n",
       "      <td>5.400000</td>\n",
       "      <td>XOne</td>\n",
       "      <td>5.26</td>\n",
       "    </tr>\n",
       "    <tr>\n",
       "      <td>44</td>\n",
       "      <td>Call of Duty: Advanced Warfare</td>\n",
       "      <td>4.800000</td>\n",
       "      <td>PS3</td>\n",
       "      <td>4.36</td>\n",
       "    </tr>\n",
       "  </tbody>\n",
       "</table>\n",
       "</div>"
      ],
      "text/plain": [
       "                               name  user_score_noempty platform  total_sales\n",
       "49        Call of Duty: Black Ops 3            7.041883     XOne         7.39\n",
       "133              Grand Theft Auto V            7.900000     XOne         5.47\n",
       "212                       Minecraft            6.819362      PS3         5.27\n",
       "46   Call of Duty: Advanced Warfare            5.400000     XOne         5.26\n",
       "44   Call of Duty: Advanced Warfare            4.800000      PS3         4.36"
      ]
     },
     "execution_count": 40,
     "metadata": {},
     "output_type": "execute_result"
    }
   ],
   "source": [
    "popular_games_pivot = (popular_games_other_plat.pivot_table(index = ['name','user_score_noempty','platform'], values = 'total_sales',aggfunc = 'sum')).reset_index()\n",
    "popular_games_pivot = popular_games_pivot.sort_values('total_sales',ascending = False)\n",
    "popular_games_pivot.head(5)"
   ]
  },
  {
   "cell_type": "code",
   "execution_count": 41,
   "metadata": {},
   "outputs": [
    {
     "data": {
      "text/html": [
       "<div>\n",
       "<style scoped>\n",
       "    .dataframe tbody tr th:only-of-type {\n",
       "        vertical-align: middle;\n",
       "    }\n",
       "\n",
       "    .dataframe tbody tr th {\n",
       "        vertical-align: top;\n",
       "    }\n",
       "\n",
       "    .dataframe thead th {\n",
       "        text-align: right;\n",
       "    }\n",
       "</style>\n",
       "<table border=\"1\" class=\"dataframe\">\n",
       "  <thead>\n",
       "    <tr style=\"text-align: right;\">\n",
       "      <th></th>\n",
       "      <th>name</th>\n",
       "      <th>user_score_noempty</th>\n",
       "      <th>platform</th>\n",
       "      <th>total_sales</th>\n",
       "    </tr>\n",
       "  </thead>\n",
       "  <tbody>\n",
       "    <tr>\n",
       "      <td>374</td>\n",
       "      <td>The Witcher 3: Wild Hunt</td>\n",
       "      <td>9.2</td>\n",
       "      <td>XOne</td>\n",
       "      <td>1.30</td>\n",
       "    </tr>\n",
       "    <tr>\n",
       "      <td>43</td>\n",
       "      <td>Brothers: A Tale of Two Sons</td>\n",
       "      <td>8.9</td>\n",
       "      <td>XOne</td>\n",
       "      <td>0.04</td>\n",
       "    </tr>\n",
       "    <tr>\n",
       "      <td>368</td>\n",
       "      <td>The Peanuts Movie: Snoopy's Grand Adventure</td>\n",
       "      <td>8.8</td>\n",
       "      <td>3DS</td>\n",
       "      <td>0.03</td>\n",
       "    </tr>\n",
       "    <tr>\n",
       "      <td>60</td>\n",
       "      <td>Dead Rising</td>\n",
       "      <td>8.8</td>\n",
       "      <td>XOne</td>\n",
       "      <td>0.01</td>\n",
       "    </tr>\n",
       "    <tr>\n",
       "      <td>170</td>\n",
       "      <td>LEGO The Hobbit</td>\n",
       "      <td>8.7</td>\n",
       "      <td>X360</td>\n",
       "      <td>0.45</td>\n",
       "    </tr>\n",
       "  </tbody>\n",
       "</table>\n",
       "</div>"
      ],
      "text/plain": [
       "                                            name  user_score_noempty platform  \\\n",
       "374                     The Witcher 3: Wild Hunt                 9.2     XOne   \n",
       "43                  Brothers: A Tale of Two Sons                 8.9     XOne   \n",
       "368  The Peanuts Movie: Snoopy's Grand Adventure                 8.8      3DS   \n",
       "60                                   Dead Rising                 8.8     XOne   \n",
       "170                              LEGO The Hobbit                 8.7     X360   \n",
       "\n",
       "     total_sales  \n",
       "374         1.30  \n",
       "43          0.04  \n",
       "368         0.03  \n",
       "60          0.01  \n",
       "170         0.45  "
      ]
     },
     "execution_count": 41,
     "metadata": {},
     "output_type": "execute_result"
    }
   ],
   "source": [
    "popular_games_pivot = popular_games_pivot.sort_values('user_score_noempty',ascending = False)\n",
    "popular_games_pivot.head(5)"
   ]
  },
  {
   "cell_type": "markdown",
   "metadata": {},
   "source": [
    "here almost same games are in top selling 5 games Call of Duty: Black Ops,Grand Theft Auto V ,Minecraft,Call of Duty: Advanced Warfare,Call of Duty: Advanced Warfare\t that could be because games are depend on the platforms. and here also, user score does not depend on top sells."
   ]
  },
  {
   "cell_type": "code",
   "execution_count": 42,
   "metadata": {},
   "outputs": [
    {
     "data": {
      "text/plain": [
       "Text(0.5, 1.0, 'Scatterplot for other platforms')"
      ]
     },
     "execution_count": 42,
     "metadata": {},
     "output_type": "execute_result"
    },
    {
     "data": {
      "image/png": "[encoded data removed]",
      "text/plain": [
       "<Figure size 576x432 with 1 Axes>"
      ]
     },
     "metadata": {
      "needs_background": "light"
     },
     "output_type": "display_data"
    }
   ],
   "source": [
    "popular_games_other_plat[\"user_score_noempty\"] = pd.to_numeric(popular_games_other_plat['user_score_noempty'], errors='coerce')\n",
    "popular_games_other_plat.plot(x='user_score_noempty', y = 'total_sales', kind = 'scatter', figsize=(8, 6), grid=True, c= 'black')\n",
    "pl.title('Scatterplot for other platforms')\n"
   ]
  },
  {
   "cell_type": "code",
   "execution_count": 43,
   "metadata": {},
   "outputs": [
    {
     "name": "stdout",
     "output_type": "stream",
     "text": [
      "-0.16310774040893242\n"
     ]
    }
   ],
   "source": [
    "print(popular_games_other_plat['user_score_noempty'].corr(popular_games_other_plat['total_sales']))"
   ]
  },
  {
   "cell_type": "markdown",
   "metadata": {},
   "source": [
    "A correlation of -0.163 implies a connection, though it could be opposite. Increase user_score_noempty and total_sales will often increase, but not always. And vice versa: increase user_score_noempty, and total_sales will often change. Thus, we don't know anything about cause and effect; we only know that the two factors show correlation.\n",
    "Thus, you can't prove cause and effect with the presence of correlation, but you won’t disprove it either."
   ]
  },
  {
   "cell_type": "code",
   "execution_count": 44,
   "metadata": {},
   "outputs": [
    {
     "data": {
      "text/plain": [
       "Text(0.5, 1.0, 'Boxplot')"
      ]
     },
     "execution_count": 44,
     "metadata": {},
     "output_type": "execute_result"
    },
    {
     "data": {
      "image/png": "[encoded data removed]",
      "text/plain": [
       "<Figure size 432x288 with 1 Axes>"
      ]
     },
     "metadata": {
      "needs_background": "light"
     },
     "output_type": "display_data"
    }
   ],
   "source": [
    "boxprops = dict(linestyle='-', linewidth=4, color='k')\n",
    "medianprops = dict(linestyle='-', linewidth=4, color='k')\n",
    "\n",
    "ax = popular_games_other_plat.boxplot(column=['total_sales'],\n",
    "                by='platform',\n",
    "                showfliers=False, showmeans=True,\n",
    "                boxprops=boxprops,\n",
    "                medianprops=medianprops)\n",
    "Q1 = popular_games_other_plat['total_sales'].quantile(0.25)\n",
    "Q3 = popular_games_other_plat['total_sales'].quantile(0.75)\n",
    "IQR = Q3 - Q1\n",
    "pl.xticks(rotation=90)\n",
    "pl.hlines(y= [Q1-1.5*IQR], xmin=0.9, xmax=1.1, color='red')\n",
    "# get rid of the automatic title\n",
    "pl.suptitle(\"\")\n",
    "ax.set_xlabel(\"platform\")\n",
    "ax.set_title(\"Boxplot\")"
   ]
  },
  {
   "cell_type": "markdown",
   "metadata": {},
   "source": [
    "box plot sates that top selling platform other than x360 is PS3"
   ]
  },
  {
   "cell_type": "markdown",
   "metadata": {},
   "source": [
    "## 3.8 Take a look at the general distribution of games by genre. What can we say about the most profitable genres? Can you generalize about genres with high and low sales? "
   ]
  },
  {
   "cell_type": "code",
   "execution_count": 45,
   "metadata": {},
   "outputs": [
    {
     "data": {
      "text/html": [
       "<div>\n",
       "<style scoped>\n",
       "    .dataframe tbody tr th:only-of-type {\n",
       "        vertical-align: middle;\n",
       "    }\n",
       "\n",
       "    .dataframe tbody tr th {\n",
       "        vertical-align: top;\n",
       "    }\n",
       "\n",
       "    .dataframe thead th {\n",
       "        text-align: right;\n",
       "    }\n",
       "</style>\n",
       "<table border=\"1\" class=\"dataframe\">\n",
       "  <thead>\n",
       "    <tr style=\"text-align: right;\">\n",
       "      <th></th>\n",
       "      <th>genre</th>\n",
       "      <th>total_sales</th>\n",
       "    </tr>\n",
       "  </thead>\n",
       "  <tbody>\n",
       "    <tr>\n",
       "      <td>0</td>\n",
       "      <td>Action</td>\n",
       "      <td>199.36</td>\n",
       "    </tr>\n",
       "    <tr>\n",
       "      <td>8</td>\n",
       "      <td>Shooter</td>\n",
       "      <td>170.94</td>\n",
       "    </tr>\n",
       "    <tr>\n",
       "      <td>10</td>\n",
       "      <td>Sports</td>\n",
       "      <td>109.48</td>\n",
       "    </tr>\n",
       "    <tr>\n",
       "      <td>7</td>\n",
       "      <td>Role-Playing</td>\n",
       "      <td>101.44</td>\n",
       "    </tr>\n",
       "    <tr>\n",
       "      <td>3</td>\n",
       "      <td>Misc</td>\n",
       "      <td>37.55</td>\n",
       "    </tr>\n",
       "  </tbody>\n",
       "</table>\n",
       "</div>"
      ],
      "text/plain": [
       "           genre  total_sales\n",
       "0         Action       199.36\n",
       "8        Shooter       170.94\n",
       "10        Sports       109.48\n",
       "7   Role-Playing       101.44\n",
       "3           Misc        37.55"
      ]
     },
     "execution_count": 45,
     "metadata": {},
     "output_type": "execute_result"
    }
   ],
   "source": [
    "genre_sales = (year_subset.pivot_table(index = ['genre'], values = 'total_sales',aggfunc = 'sum')).reset_index()\n",
    "genre_sales_sorted = genre_sales.sort_values('total_sales',ascending = False)\n",
    "genre_sales_sorted.head()"
   ]
  },
  {
   "cell_type": "code",
   "execution_count": 46,
   "metadata": {},
   "outputs": [
    {
     "data": {
      "text/plain": [
       "Text(0, 0.5, 'number of sales')"
      ]
     },
     "execution_count": 46,
     "metadata": {},
     "output_type": "execute_result"
    },
    {
     "data": {
      "image/png": "[encoded data removed]",
      "text/plain": [
       "<Figure size 432x288 with 1 Axes>"
      ]
     },
     "metadata": {
      "needs_background": "light"
     },
     "output_type": "display_data"
    }
   ],
   "source": [
    "genre_sales_sorted.plot('genre',sharex=True, sharey=True,kind='bar')\n",
    "pl.title('Total sales by Genre')\n",
    "pl.xlabel('Genre')\n",
    "pl.ylabel('number of sales')\n"
   ]
  },
  {
   "cell_type": "markdown",
   "metadata": {},
   "source": [
    "Here we found out top 5 genre having top sell: \"Action\",\"Shooter\",\"Sports\",\"Role-Playing\",\"Misc\""
   ]
  },
  {
   "cell_type": "code",
   "execution_count": 47,
   "metadata": {},
   "outputs": [
    {
     "data": {
      "text/html": [
       "<div>\n",
       "<style scoped>\n",
       "    .dataframe tbody tr th:only-of-type {\n",
       "        vertical-align: middle;\n",
       "    }\n",
       "\n",
       "    .dataframe tbody tr th {\n",
       "        vertical-align: top;\n",
       "    }\n",
       "\n",
       "    .dataframe thead th {\n",
       "        text-align: right;\n",
       "    }\n",
       "</style>\n",
       "<table border=\"1\" class=\"dataframe\">\n",
       "  <thead>\n",
       "    <tr style=\"text-align: right;\">\n",
       "      <th></th>\n",
       "      <th>name</th>\n",
       "      <th>platform</th>\n",
       "      <th>genre</th>\n",
       "      <th>na_sales</th>\n",
       "      <th>eu_sales</th>\n",
       "      <th>jp_sales</th>\n",
       "      <th>other_sales</th>\n",
       "      <th>year_of_release_noempty</th>\n",
       "      <th>critic_score_noempty</th>\n",
       "      <th>user_score_noempty</th>\n",
       "      <th>total_sales</th>\n",
       "      <th>rating_noempty</th>\n",
       "    </tr>\n",
       "  </thead>\n",
       "  <tbody>\n",
       "    <tr>\n",
       "      <td>31</td>\n",
       "      <td>Call of Duty: Black Ops 3</td>\n",
       "      <td>PS4</td>\n",
       "      <td>Shooter</td>\n",
       "      <td>6.03</td>\n",
       "      <td>5.86</td>\n",
       "      <td>0.36</td>\n",
       "      <td>2.38</td>\n",
       "      <td>2015.0</td>\n",
       "      <td>70.1811</td>\n",
       "      <td>7.04188</td>\n",
       "      <td>14.63</td>\n",
       "      <td>M</td>\n",
       "    </tr>\n",
       "    <tr>\n",
       "      <td>42</td>\n",
       "      <td>Grand Theft Auto V</td>\n",
       "      <td>PS4</td>\n",
       "      <td>Action</td>\n",
       "      <td>3.96</td>\n",
       "      <td>6.31</td>\n",
       "      <td>0.38</td>\n",
       "      <td>1.97</td>\n",
       "      <td>2014.0</td>\n",
       "      <td>97</td>\n",
       "      <td>8.3</td>\n",
       "      <td>12.62</td>\n",
       "      <td>M</td>\n",
       "    </tr>\n",
       "    <tr>\n",
       "      <td>47</td>\n",
       "      <td>Pokemon Omega Ruby/Pokemon Alpha Sapphire</td>\n",
       "      <td>3DS</td>\n",
       "      <td>Role-Playing</td>\n",
       "      <td>4.35</td>\n",
       "      <td>3.49</td>\n",
       "      <td>3.10</td>\n",
       "      <td>0.74</td>\n",
       "      <td>2014.0</td>\n",
       "      <td>72.6526</td>\n",
       "      <td>7.61952</td>\n",
       "      <td>11.68</td>\n",
       "      <td>T</td>\n",
       "    </tr>\n",
       "    <tr>\n",
       "      <td>77</td>\n",
       "      <td>FIFA 16</td>\n",
       "      <td>PS4</td>\n",
       "      <td>Sports</td>\n",
       "      <td>1.12</td>\n",
       "      <td>6.12</td>\n",
       "      <td>0.06</td>\n",
       "      <td>1.28</td>\n",
       "      <td>2015.0</td>\n",
       "      <td>82</td>\n",
       "      <td>4.3</td>\n",
       "      <td>8.58</td>\n",
       "      <td>E</td>\n",
       "    </tr>\n",
       "    <tr>\n",
       "      <td>87</td>\n",
       "      <td>Star Wars Battlefront (2015)</td>\n",
       "      <td>PS4</td>\n",
       "      <td>Shooter</td>\n",
       "      <td>2.99</td>\n",
       "      <td>3.49</td>\n",
       "      <td>0.22</td>\n",
       "      <td>1.28</td>\n",
       "      <td>2015.0</td>\n",
       "      <td>70.1811</td>\n",
       "      <td>7.04188</td>\n",
       "      <td>7.98</td>\n",
       "      <td>M</td>\n",
       "    </tr>\n",
       "  </tbody>\n",
       "</table>\n",
       "</div>"
      ],
      "text/plain": [
       "                                         name platform         genre  \\\n",
       "31                  Call of Duty: Black Ops 3      PS4       Shooter   \n",
       "42                         Grand Theft Auto V      PS4        Action   \n",
       "47  Pokemon Omega Ruby/Pokemon Alpha Sapphire      3DS  Role-Playing   \n",
       "77                                    FIFA 16      PS4        Sports   \n",
       "87               Star Wars Battlefront (2015)      PS4       Shooter   \n",
       "\n",
       "    na_sales  eu_sales  jp_sales  other_sales  year_of_release_noempty  \\\n",
       "31      6.03      5.86      0.36         2.38                   2015.0   \n",
       "42      3.96      6.31      0.38         1.97                   2014.0   \n",
       "47      4.35      3.49      3.10         0.74                   2014.0   \n",
       "77      1.12      6.12      0.06         1.28                   2015.0   \n",
       "87      2.99      3.49      0.22         1.28                   2015.0   \n",
       "\n",
       "   critic_score_noempty user_score_noempty  total_sales rating_noempty  \n",
       "31              70.1811            7.04188        14.63              M  \n",
       "42                   97                8.3        12.62              M  \n",
       "47              72.6526            7.61952        11.68              T  \n",
       "77                   82                4.3         8.58              E  \n",
       "87              70.1811            7.04188         7.98              M  "
      ]
     },
     "execution_count": 47,
     "metadata": {},
     "output_type": "execute_result"
    }
   ],
   "source": [
    "genre_subset = year_subset.query('genre in (\"Action\",\"Shooter\",\"Sports\",\"Role-Playing\",\"Misc\")')\n",
    "genre_subset.head()"
   ]
  },
  {
   "cell_type": "markdown",
   "metadata": {},
   "source": [
    "created subset for top 5 to selling genres"
   ]
  },
  {
   "cell_type": "markdown",
   "metadata": {},
   "source": [
    "# 4. Create a user profile for each region"
   ]
  },
  {
   "cell_type": "markdown",
   "metadata": {},
   "source": [
    "## 4.1 The top five platforms. Describe variations in their market shares from region to region. "
   ]
  },
  {
   "cell_type": "code",
   "execution_count": 48,
   "metadata": {},
   "outputs": [
    {
     "data": {
      "image/png": "[encoded data removed]",
      "text/plain": [
       "<Figure size 432x288 with 1 Axes>"
      ]
     },
     "metadata": {
      "needs_background": "light"
     },
     "output_type": "display_data"
    },
    {
     "data": {
      "image/png": "[encoded data removed]",
      "text/plain": [
       "<Figure size 432x288 with 1 Axes>"
      ]
     },
     "metadata": {
      "needs_background": "light"
     },
     "output_type": "display_data"
    },
    {
     "data": {
      "image/png": "[encoded data removed]",
      "text/plain": [
       "<Figure size 432x288 with 1 Axes>"
      ]
     },
     "metadata": {
      "needs_background": "light"
     },
     "output_type": "display_data"
    },
    {
     "data": {
      "image/png": "[encoded data removed]",
      "text/plain": [
       "<Figure size 432x288 with 1 Axes>"
      ]
     },
     "metadata": {
      "needs_background": "light"
     },
     "output_type": "display_data"
    }
   ],
   "source": [
    "columns_to_clean = ['na_sales','eu_sales','jp_sales','other_sales']\n",
    "for x in columns_to_clean:\n",
    "    boxprops = dict(linestyle='-', linewidth=4, color='k')\n",
    "    medianprops = dict(linestyle='-', linewidth=4, color='k')\n",
    "\n",
    "    ax = platform_subset.boxplot(column=[x],\n",
    "                by='platform',\n",
    "                showfliers=False, showmeans=True,\n",
    "                boxprops=boxprops,\n",
    "                medianprops=medianprops)\n",
    "    Q1 = platform_subset[x].quantile(0.25)\n",
    "    Q3 = platform_subset[x].quantile(0.75)\n",
    "    IQR = Q3 - Q1\n",
    "    pl.xticks(rotation=90)\n",
    "    pl.hlines(y= [Q1-1.5*IQR], xmin=0.9, xmax=1.1, color='red')\n",
    "# get rid of the automatic title\n",
    "    pl.suptitle(\" \")\n",
    "    ax.set_xlabel(\"Platform\")\n",
    "    ax.set_title(f'{x}')\n",
    "    "
   ]
  },
  {
   "cell_type": "markdown",
   "metadata": {},
   "source": [
    "as we follow boxplot we can say that other than America PS4 has highest sells in  EU and Other regions while, Japan has 3DS platform leading in popularity and NA has Xone."
   ]
  },
  {
   "cell_type": "code",
   "execution_count": 49,
   "metadata": {},
   "outputs": [
    {
     "name": "stdout",
     "output_type": "stream",
     "text": [
      "  platform  na_sales\n",
      "                mean\n",
      "0      3DS  0.106792\n",
      "1      PS3  0.100685\n",
      "2      PS4  0.262261\n",
      "3     X360  0.254955\n",
      "4     XOne  0.356447\n",
      "  platform  eu_sales\n",
      "                mean\n",
      "0      3DS  0.076038\n",
      "1      PS3  0.116621\n",
      "2      PS4  0.345851\n",
      "3     X360  0.139550\n",
      "4     XOne  0.202851\n",
      "  platform  jp_sales\n",
      "                mean\n",
      "0      3DS  0.208679\n",
      "1      PS3  0.051233\n",
      "2      PS4  0.039947\n",
      "3     X360  0.000721\n",
      "4     XOne  0.001404\n",
      "  platform other_sales\n",
      "                  mean\n",
      "0      3DS    0.017358\n",
      "1      PS3    0.042785\n",
      "2      PS4    0.118298\n",
      "3     X360    0.039189\n",
      "4     XOne    0.054912\n"
     ]
    }
   ],
   "source": [
    "for x in columns_to_clean:\n",
    "    print(platform_subset.groupby('platform').agg({f'{x}': ['mean']}).reset_index())"
   ]
  },
  {
   "cell_type": "markdown",
   "metadata": {},
   "source": [
    "## 4.2  The top five genres. Explain the difference. "
   ]
  },
  {
   "cell_type": "code",
   "execution_count": 50,
   "metadata": {},
   "outputs": [
    {
     "name": "stdout",
     "output_type": "stream",
     "text": [
      "          genre  na_sales\n",
      "                     mean\n",
      "0        Action  0.117173\n",
      "1          Misc  0.133186\n",
      "2  Role-Playing  0.151448\n",
      "3       Shooter  0.617344\n",
      "4        Sports  0.286522\n",
      "          genre  eu_sales\n",
      "                     mean\n",
      "0        Action  0.120646\n",
      "1          Misc  0.113805\n",
      "2  Role-Playing  0.127466\n",
      "3       Shooter  0.511875\n",
      "4        Sports  0.284037\n",
      "          genre  jp_sales\n",
      "                     mean\n",
      "0        Action  0.047787\n",
      "1          Misc  0.049646\n",
      "2  Role-Playing  0.140995\n",
      "3       Shooter  0.038047\n",
      "4        Sports  0.020248\n",
      "          genre other_sales\n",
      "                       mean\n",
      "0        Action    0.036462\n",
      "1          Misc    0.035664\n",
      "2  Role-Playing    0.039095\n",
      "3       Shooter    0.168203\n",
      "4        Sports    0.089193\n"
     ]
    }
   ],
   "source": [
    "for x in columns_to_clean:\n",
    "    print(genre_subset.groupby('genre').agg({f'{x}': ['mean']}).reset_index())"
   ]
  },
  {
   "cell_type": "code",
   "execution_count": 51,
   "metadata": {},
   "outputs": [
    {
     "data": {
      "image/png": "[encoded data removed]",
      "text/plain": [
       "<Figure size 432x288 with 1 Axes>"
      ]
     },
     "metadata": {
      "needs_background": "light"
     },
     "output_type": "display_data"
    },
    {
     "data": {
      "image/png": "[encoded data removed]",
      "text/plain": [
       "<Figure size 432x288 with 1 Axes>"
      ]
     },
     "metadata": {
      "needs_background": "light"
     },
     "output_type": "display_data"
    },
    {
     "data": {
      "image/png": "[encoded data removed]",
      "text/plain": [
       "<Figure size 432x288 with 1 Axes>"
      ]
     },
     "metadata": {
      "needs_background": "light"
     },
     "output_type": "display_data"
    },
    {
     "data": {
      "image/png": "[encoded data removed]",
      "text/plain": [
       "<Figure size 432x288 with 1 Axes>"
      ]
     },
     "metadata": {
      "needs_background": "light"
     },
     "output_type": "display_data"
    }
   ],
   "source": [
    "for x in columns_to_clean:\n",
    "    boxprops = dict(linestyle='-', linewidth=4, color='k')\n",
    "    medianprops = dict(linestyle='-', linewidth=4, color='k')\n",
    "\n",
    "    ax = genre_subset.boxplot(column=[x],\n",
    "                by='genre',\n",
    "                showfliers=False, showmeans=True,\n",
    "                boxprops=boxprops,\n",
    "                medianprops=medianprops)\n",
    "    Q1 = genre_subset[x].quantile(0.25)\n",
    "    Q3 = genre_subset[x].quantile(0.75)\n",
    "    IQR = Q3 - Q1\n",
    "    pl.xticks(rotation=90)\n",
    "    pl.hlines(y= [Q1-1.5*IQR], xmin=0.9, xmax=1.1, color='red')\n",
    "# get rid of the automatic title\n",
    "    pl.suptitle(\" \")\n",
    "    ax.set_xlabel(\"Genre\")\n",
    "    ax.set_title(f'{x}')\n",
    "    "
   ]
  },
  {
   "cell_type": "markdown",
   "metadata": {},
   "source": [
    "selling of games is different in different areas according to genre.\n",
    "Except Japan(Role-Playing) in other remaining regions Shooter is popular Genre"
   ]
  },
  {
   "cell_type": "markdown",
   "metadata": {},
   "source": [
    "## 4.3 Do ESRB ratings affect sales in individual regions?  "
   ]
  },
  {
   "cell_type": "code",
   "execution_count": 52,
   "metadata": {},
   "outputs": [
    {
     "name": "stdout",
     "output_type": "stream",
     "text": [
      "  rating_noempty  na_sales\n",
      "0              E  0.125636\n",
      "1           E10+  0.179622\n",
      "2              M  0.408617\n",
      "3              T  0.100977\n",
      "  rating_noempty  eu_sales\n",
      "0              E  0.150384\n",
      "1           E10+  0.141405\n",
      "2              M  0.388404\n",
      "3              T  0.083287\n",
      "  rating_noempty  jp_sales\n",
      "0              E  0.039333\n",
      "1           E10+  0.024108\n",
      "2              M  0.030887\n",
      "3              T  0.083150\n",
      "  rating_noempty  other_sales\n",
      "0              E     0.039859\n",
      "1           E10+     0.042324\n",
      "2              M     0.121454\n",
      "3              T     0.027249\n"
     ]
    }
   ],
   "source": [
    "for x in columns_to_clean:\n",
    "    print(year_subset.groupby(['rating_noempty'])[f'{x}'].mean().reset_index())"
   ]
  },
  {
   "cell_type": "code",
   "execution_count": 53,
   "metadata": {},
   "outputs": [
    {
     "data": {
      "image/png": "[encoded data removed]",
      "text/plain": [
       "<Figure size 432x288 with 1 Axes>"
      ]
     },
     "metadata": {
      "needs_background": "light"
     },
     "output_type": "display_data"
    },
    {
     "data": {
      "image/png": "[encoded data removed]",
      "text/plain": [
       "<Figure size 432x288 with 1 Axes>"
      ]
     },
     "metadata": {
      "needs_background": "light"
     },
     "output_type": "display_data"
    },
    {
     "data": {
      "image/png": "[encoded data removed]",
      "text/plain": [
       "<Figure size 432x288 with 1 Axes>"
      ]
     },
     "metadata": {
      "needs_background": "light"
     },
     "output_type": "display_data"
    },
    {
     "data": {
      "image/png": "[encoded data removed]",
      "text/plain": [
       "<Figure size 432x288 with 1 Axes>"
      ]
     },
     "metadata": {
      "needs_background": "light"
     },
     "output_type": "display_data"
    }
   ],
   "source": [
    "for x in columns_to_clean:\n",
    "    boxprops = dict(linestyle='-', linewidth=4, color='k')\n",
    "    medianprops = dict(linestyle='-', linewidth=4, color='k')\n",
    "\n",
    "    ax = year_subset.boxplot(column=[x],\n",
    "                by='rating_noempty',\n",
    "                showfliers=False, showmeans=True,\n",
    "                boxprops=boxprops,\n",
    "                medianprops=medianprops)\n",
    "    Q1 = new_df[x].quantile(0.25)\n",
    "    Q3 = new_df[x].quantile(0.75)\n",
    "    IQR = Q3 - Q1\n",
    "    pl.xticks(rotation=90)\n",
    "    pl.hlines(y= [Q1-1.5*IQR], xmin=0.9, xmax=1.1, color='red')\n",
    "# get rid of the automatic title\n",
    "    pl.suptitle(\" \")\n",
    "    ax.set_xlabel(\"ESRB Rating\")\n",
    "    ax.set_title(f'{x}')\n",
    "    "
   ]
  },
  {
   "cell_type": "markdown",
   "metadata": {},
   "source": [
    "ESRB ratings affect sales in different ways in different areas.\n",
    "1. na_sales = M rating\n",
    "2. eu_sales = M rating\n",
    "3. jp_sales = T rating\n",
    "4. other_sales = M rating"
   ]
  },
  {
   "cell_type": "code",
   "execution_count": 54,
   "metadata": {},
   "outputs": [
    {
     "data": {
      "text/html": [
       "<div>\n",
       "<style scoped>\n",
       "    .dataframe tbody tr th:only-of-type {\n",
       "        vertical-align: middle;\n",
       "    }\n",
       "\n",
       "    .dataframe tbody tr th {\n",
       "        vertical-align: top;\n",
       "    }\n",
       "\n",
       "    .dataframe thead th {\n",
       "        text-align: right;\n",
       "    }\n",
       "</style>\n",
       "<table border=\"1\" class=\"dataframe\">\n",
       "  <thead>\n",
       "    <tr style=\"text-align: right;\">\n",
       "      <th></th>\n",
       "      <th>name</th>\n",
       "      <th>rating_noempty</th>\n",
       "      <th>year_of_release_noempty</th>\n",
       "      <th>total_sales</th>\n",
       "    </tr>\n",
       "  </thead>\n",
       "  <tbody>\n",
       "    <tr>\n",
       "      <td>114</td>\n",
       "      <td>Call of Duty: Black Ops 3</td>\n",
       "      <td>M</td>\n",
       "      <td>2015.0</td>\n",
       "      <td>25.67</td>\n",
       "    </tr>\n",
       "    <tr>\n",
       "      <td>113</td>\n",
       "      <td>Call of Duty: Advanced Warfare</td>\n",
       "      <td>M</td>\n",
       "      <td>2014.0</td>\n",
       "      <td>21.97</td>\n",
       "    </tr>\n",
       "    <tr>\n",
       "      <td>342</td>\n",
       "      <td>Grand Theft Auto V</td>\n",
       "      <td>M</td>\n",
       "      <td>2014.0</td>\n",
       "      <td>18.09</td>\n",
       "    </tr>\n",
       "    <tr>\n",
       "      <td>268</td>\n",
       "      <td>FIFA 15</td>\n",
       "      <td>E</td>\n",
       "      <td>2014.0</td>\n",
       "      <td>17.37</td>\n",
       "    </tr>\n",
       "    <tr>\n",
       "      <td>269</td>\n",
       "      <td>FIFA 16</td>\n",
       "      <td>E</td>\n",
       "      <td>2015.0</td>\n",
       "      <td>16.30</td>\n",
       "    </tr>\n",
       "  </tbody>\n",
       "</table>\n",
       "</div>"
      ],
      "text/plain": [
       "                               name rating_noempty  year_of_release_noempty  \\\n",
       "114       Call of Duty: Black Ops 3              M                   2015.0   \n",
       "113  Call of Duty: Advanced Warfare              M                   2014.0   \n",
       "342              Grand Theft Auto V              M                   2014.0   \n",
       "268                         FIFA 15              E                   2014.0   \n",
       "269                         FIFA 16              E                   2015.0   \n",
       "\n",
       "     total_sales  \n",
       "114        25.67  \n",
       "113        21.97  \n",
       "342        18.09  \n",
       "268        17.37  \n",
       "269        16.30  "
      ]
     },
     "execution_count": 54,
     "metadata": {},
     "output_type": "execute_result"
    }
   ],
   "source": [
    "popular_games_pivot = (year_subset.pivot_table(index = ['name','rating_noempty','year_of_release_noempty'], values = 'total_sales',aggfunc = 'sum')).reset_index()\n",
    "popular_games_pivot = popular_games_pivot.sort_values('total_sales',ascending = False)\n",
    "popular_games_pivot.head(5)"
   ]
  },
  {
   "cell_type": "markdown",
   "metadata": {},
   "source": [
    "here we can see  that the highest grossing games on different platforms are different and our top 5 grossing games are have M rating."
   ]
  },
  {
   "cell_type": "code",
   "execution_count": 55,
   "metadata": {},
   "outputs": [
    {
     "data": {
      "text/plain": [
       "array(['Wii', 'NES', 'GB', 'DS', 'X360', 'PS3', 'PS2', 'SNES', 'GBA',\n",
       "       'PS4', '3DS', 'N64', 'PS', 'XB', 'PC', '2600', 'PSP', 'XOne',\n",
       "       'WiiU', 'GC', 'GEN', 'DC', 'PSV', 'SAT', 'SCD', 'WS', 'NG', 'TG16',\n",
       "       '3DO', 'GG', 'PCFX'], dtype=object)"
      ]
     },
     "execution_count": 55,
     "metadata": {},
     "output_type": "execute_result"
    }
   ],
   "source": [
    "new_df['platform'].unique()"
   ]
  },
  {
   "cell_type": "markdown",
   "metadata": {},
   "source": [
    "# 5. Test the following hypotheses"
   ]
  },
  {
   "cell_type": "code",
   "execution_count": 56,
   "metadata": {},
   "outputs": [
    {
     "data": {
      "text/plain": [
       "Index(['name', 'platform', 'genre', 'na_sales', 'eu_sales', 'jp_sales',\n",
       "       'other_sales', 'year_of_release_noempty', 'critic_score_noempty',\n",
       "       'user_score_noempty', 'total_sales', 'rating_noempty'],\n",
       "      dtype='object')"
      ]
     },
     "execution_count": 56,
     "metadata": {},
     "output_type": "execute_result"
    }
   ],
   "source": [
    "x_one_data = year_subset.query('platform in (\"XOne\")')\n",
    "x_one_data.columns"
   ]
  },
  {
   "cell_type": "code",
   "execution_count": 57,
   "metadata": {},
   "outputs": [],
   "source": [
    "pc_data = year_subset.query('platform in (\"PC\")')"
   ]
  },
  {
   "cell_type": "markdown",
   "metadata": {},
   "source": [
    "we have created two separate dataset to run hypotheses"
   ]
  },
  {
   "cell_type": "markdown",
   "metadata": {},
   "source": [
    "## 5.1 Average user ratings of the Xbox One and PC platforms are the same "
   ]
  },
  {
   "cell_type": "code",
   "execution_count": 58,
   "metadata": {},
   "outputs": [],
   "source": [
    "from scipy.stats import mannwhitneyu"
   ]
  },
  {
   "cell_type": "code",
   "execution_count": 59,
   "metadata": {},
   "outputs": [
    {
     "name": "stdout",
     "output_type": "stream",
     "text": [
      "6.72932395185694\n",
      "1.4171638280917858\n",
      "1.1904469026763798\n"
     ]
    }
   ],
   "source": [
    "print(x_one_data['user_score_noempty'].mean())\n",
    "variance = np.var(x_one_data['user_score_noempty'])\n",
    "print(variance)\n",
    "standard_deviation = np.sqrt(variance)\n",
    "print(standard_deviation)"
   ]
  },
  {
   "cell_type": "code",
   "execution_count": 60,
   "metadata": {},
   "outputs": [
    {
     "name": "stdout",
     "output_type": "stream",
     "text": [
      "6.451523964348695\n",
      "2.4281321345453364\n",
      "1.5582464935129283\n"
     ]
    }
   ],
   "source": [
    "print(pc_data['user_score_noempty'].mean())\n",
    "variance = np.var(pc_data['user_score_noempty'])\n",
    "print(variance)\n",
    "standard_deviation = np.sqrt(variance)\n",
    "print(standard_deviation)"
   ]
  },
  {
   "cell_type": "code",
   "execution_count": 61,
   "metadata": {},
   "outputs": [
    {
     "name": "stdout",
     "output_type": "stream",
     "text": [
      "Statistics=16249.500, p=0.178\n",
      "Same distribution (fail to reject H0)\n"
     ]
    }
   ],
   "source": [
    "stat, p = mannwhitneyu(x_one_data['user_score_noempty'], pc_data['user_score_noempty'])\n",
    "print('Statistics=%.3f, p=%.3f' % (stat, p))\n",
    "# interpret\n",
    "alpha = 0.05\n",
    "if p > alpha:\n",
    " print('Same distribution (fail to reject H0)')\n",
    "else:\n",
    " print('Different distribution (reject H0)')"
   ]
  },
  {
   "cell_type": "markdown",
   "metadata": {},
   "source": [
    "The Mann-Whitney U test is a nonparametric statistical significance test for determining whether two independent samples were drawn from a population with the same distribution.\n",
    "The default assumption or null hypothesis is that there is no difference between the distributions of the data samples. Rejection of this hypothesis suggests that there is likely some difference between the samples. More specifically, the test determines whether it is equally likely that any randomly selected observation from one sample will be greater or less than a sample in the other distribution. If violated, it suggests differing distributions.\n",
    "\n",
    "Fail to Reject H0: Sample distributions are equal.\n",
    "Reject H0: Sample distributions are not equal.\n",
    "\n",
    "Running the example calculates the test on the datasets and prints the statistic and p-value.\n",
    "The p-value strongly suggests that the sample distributions are different, means Average user ratings of the Xbox One and PC platforms are not the same.\n"
   ]
  },
  {
   "cell_type": "markdown",
   "metadata": {},
   "source": [
    "## 5.2 Average user ratings for the Action and Sports genres are different "
   ]
  },
  {
   "cell_type": "code",
   "execution_count": 62,
   "metadata": {},
   "outputs": [
    {
     "data": {
      "text/plain": [
       "array(['Sports', 'Platform', 'Racing', 'Role-Playing', 'Puzzle', 'Misc',\n",
       "       'Shooter', 'Simulation', 'Action', 'Fighting', 'Adventure',\n",
       "       'Strategy'], dtype=object)"
      ]
     },
     "execution_count": 62,
     "metadata": {},
     "output_type": "execute_result"
    }
   ],
   "source": [
    "new_df['genre'].unique()"
   ]
  },
  {
   "cell_type": "code",
   "execution_count": 63,
   "metadata": {},
   "outputs": [],
   "source": [
    "action_data = year_subset.query('genre in (\"Action\")')"
   ]
  },
  {
   "cell_type": "code",
   "execution_count": 64,
   "metadata": {},
   "outputs": [
    {
     "name": "stdout",
     "output_type": "stream",
     "text": [
      "6.913250527468074\n",
      "0.9293250506271619\n",
      "0.9640150676349213\n"
     ]
    }
   ],
   "source": [
    "print(action_data['user_score_noempty'].mean())\n",
    "variance = np.var(action_data['user_score_noempty'])\n",
    "print(variance)\n",
    "standard_deviation = np.sqrt(variance)\n",
    "print(standard_deviation)"
   ]
  },
  {
   "cell_type": "code",
   "execution_count": 65,
   "metadata": {},
   "outputs": [],
   "source": [
    "sports_data = year_subset.query('genre in (\"Sports\")')"
   ]
  },
  {
   "cell_type": "code",
   "execution_count": 66,
   "metadata": {},
   "outputs": [
    {
     "name": "stdout",
     "output_type": "stream",
     "text": [
      "5.591805521924962\n",
      "3.199666532860829\n",
      "1.7887611726725368\n"
     ]
    }
   ],
   "source": [
    "print(sports_data['user_score_noempty'].mean())\n",
    "variance = np.var(sports_data['user_score_noempty'])\n",
    "print(variance)\n",
    "standard_deviation = np.sqrt(variance)\n",
    "print(standard_deviation)"
   ]
  },
  {
   "cell_type": "code",
   "execution_count": 67,
   "metadata": {},
   "outputs": [
    {
     "name": "stdout",
     "output_type": "stream",
     "text": [
      "Statistics=20388.500, p=0.000\n",
      "Different distribution (reject H0)\n"
     ]
    }
   ],
   "source": [
    "stat, p = mannwhitneyu(action_data['user_score_noempty'], sports_data['user_score_noempty'])\n",
    "print('Statistics=%.3f, p=%.3f' % (stat, p))\n",
    "# interpret\n",
    "alpha = 0.05\n",
    "if p > alpha:\n",
    " print('Same distribution (fail to reject H0)')\n",
    "else:\n",
    " print('Different distribution (reject H0)')"
   ]
  },
  {
   "cell_type": "markdown",
   "metadata": {},
   "source": [
    "Running the example calculates the test on the datasets and prints the statistic and p-value.\n",
    "The p-value strongly suggests that the sample distributions are different, means AAverage user ratings for the Action and Sports genres are different.\n",
    "Level of significance alpha: Refers to the degree of significance in which we accept or reject the null-hypothesis. 100% accuracy is not possible for accepting or rejecting a hypothesis, so we therefore select a level of significance that is usually 5%.\n",
    "This is generally it is 0.05 or 5% , which means your output should be 95% confident to give similar kind of result in each sample."
   ]
  },
  {
   "cell_type": "markdown",
   "metadata": {},
   "source": [
    "# Final Conclusion"
   ]
  },
  {
   "cell_type": "markdown",
   "metadata": {},
   "source": [
    "The aim of the project was 'You need to identify patterns that determine whether a game succeeds or not. This will allow you to spot potential big winners and plan advertising campaigns'\n",
    "My findings are:\n",
    "1. Top 5 popular platforms: \"PS4\",\"XOne\",\"3DS\",\"PS3\",\"X360\"(Leadin two are:PS4 and Xone)\n",
    "2. Top 5 popular genres: \"Action\",\"Shooter\",\"Sports\",\"Role-Playing\",\"Misc\"(Leading are: Action, Shooter and Role-Playing in Japan)\n",
    "3. Top 5 popular games common for all above: Call of Duty: Black Ops 3\t, Grand Theft Auto V,\tFIFA 16\t, Star Wars Battlefront (2015), Call of Duty: Advanced Warfare,Minecraft\n",
    "4. Top ESRB rating for this games is: M and T for Japan\n",
    "5. Considered period for calculation : 2014 and above\n",
    "\n",
    "by analysing all the given data we have to focus on above parameters for our advertising campaign."
   ]
  },
  {
   "cell_type": "code",
   "execution_count": null,
   "metadata": {},
   "outputs": [],
   "source": []
  }
 ],
 "metadata": {
  "kernelspec": {
   "display_name": "Python 3",
   "language": "python",
   "name": "python3"
  },
  "language_info": {
   "codemirror_mode": {
    "name": "ipython",
    "version": 3
   },
   "file_extension": ".py",
   "mimetype": "text/x-python",
   "name": "python",
   "nbconvert_exporter": "python",
   "pygments_lexer": "ipython3",
   "version": "3.8.5"
  },
  "toc": {
   "base_numbering": 1,
   "nav_menu": {},
   "number_sections": true,
   "sideBar": true,
   "skip_h1_title": true,
   "title_cell": "Table of Contents",
   "title_sidebar": "Contents",
   "toc_cell": false,
   "toc_position": {},
   "toc_section_display": true,
   "toc_window_display": false
  }
 },
 "nbformat": 4,
 "nbformat_minor": 4
}
